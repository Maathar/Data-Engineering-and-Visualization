{
 "cells": [
  {
   "cell_type": "markdown",
   "id": "55447895",
   "metadata": {},
   "source": [
    "### Data Engineering \n",
    "#### Numpy (Creating Array)\n"
   ]
  },
  {
   "cell_type": "markdown",
   "id": "96b44ed8",
   "metadata": {},
   "source": [
    "# Scalar Operations:"
   ]
  },
  {
   "cell_type": "markdown",
   "id": "851ad43f",
   "metadata": {},
   "source": [
    "#### 1- create a 2*2 Numpy array and multiply it by 2."
   ]
  },
  {
   "cell_type": "code",
   "execution_count": 21,
   "id": "c10ef54d",
   "metadata": {},
   "outputs": [],
   "source": [
    "import numpy as np"
   ]
  },
  {
   "cell_type": "code",
   "execution_count": 22,
   "id": "10578dad",
   "metadata": {},
   "outputs": [
    {
     "data": {
      "text/plain": [
       "array([[2, 4],\n",
       "       [6, 8]])"
      ]
     },
     "execution_count": 22,
     "metadata": {},
     "output_type": "execute_result"
    }
   ],
   "source": [
    "l1=[1,2]\n",
    "l2=[3,4]\n",
    "array1=np.array(l1)\n",
    "array2=np.array(l2)\n",
    "l=[l1,l2]\n",
    "l\n",
    "array_2D=np.array(l)\n",
    "array_2D\n",
    "array_multi=array_2D*2\n",
    "array_multi"
   ]
  },
  {
   "cell_type": "markdown",
   "id": "a4f6a49f",
   "metadata": {},
   "source": [
    "#### 2- create a 3*3 Numpy array and add 5 to each element."
   ]
  },
  {
   "cell_type": "code",
   "execution_count": 23,
   "id": "1df2f7d0",
   "metadata": {},
   "outputs": [
    {
     "data": {
      "text/plain": [
       "array([[ 6,  7],\n",
       "       [ 8,  9],\n",
       "       [10, 11]])"
      ]
     },
     "execution_count": 23,
     "metadata": {},
     "output_type": "execute_result"
    }
   ],
   "source": [
    "l1=[1,2]\n",
    "l2=[3,4]\n",
    "l3=[5,6]\n",
    "array1=np.array(l1)\n",
    "array2=np.array(l2)\n",
    "array3=np.array(l3)\n",
    "l=[l1,l2,l3]\n",
    "l\n",
    "array=np.array(l)\n",
    "array\n",
    "array_add=array+5\n",
    "array_add"
   ]
  },
  {
   "cell_type": "markdown",
   "id": "70f84e0f",
   "metadata": {},
   "source": [
    "#### 3- create a 4*4 Numpy array and subtract 10 from each element."
   ]
  },
  {
   "cell_type": "code",
   "execution_count": 24,
   "id": "c898e3c8",
   "metadata": {},
   "outputs": [
    {
     "data": {
      "text/plain": [
       "array([[-9, -8, -7, -6],\n",
       "       [-5, -4, -3, -2],\n",
       "       [ 0,  1,  2,  3],\n",
       "       [ 4,  5,  6,  7]])"
      ]
     },
     "execution_count": 24,
     "metadata": {},
     "output_type": "execute_result"
    }
   ],
   "source": [
    "array=np.array([[1,2,3,4],[5,6,7,8],[10,11,12,13],[14,15,16,17]])\n",
    "result=array-10\n",
    "result"
   ]
  },
  {
   "cell_type": "markdown",
   "id": "d4e0603c",
   "metadata": {},
   "source": [
    "#### 4- create a 5*5 Numpy array and divide each element by 2."
   ]
  },
  {
   "cell_type": "code",
   "execution_count": 25,
   "id": "0d647c6e",
   "metadata": {},
   "outputs": [
    {
     "name": "stdout",
     "output_type": "stream",
     "text": [
      "[[ 0.5  1.   1.5  2.   2.5]\n",
      " [ 3.   3.5  4.   4.5  5. ]\n",
      " [ 5.5  6.   6.5  7.   7.5]\n",
      " [ 8.   8.5  9.   9.5 10. ]\n",
      " [ 8.   8.5  9.   9.5 10. ]]\n"
     ]
    }
   ],
   "source": [
    "array=np.array([[1,2,3,4,5],[6,7,8,9,10],[11,12,13,14,15],[16,17,18,19,20],[16,17,18,19,20]])\n",
    "result=(array/2)\n",
    "print(result)"
   ]
  },
  {
   "cell_type": "markdown",
   "id": "8ac13757",
   "metadata": {},
   "source": [
    "#### 5- create a 6*6 Numpy array and calculate the square root of each element."
   ]
  },
  {
   "cell_type": "code",
   "execution_count": 26,
   "id": "5612e0ae",
   "metadata": {},
   "outputs": [
    {
     "name": "stdout",
     "output_type": "stream",
     "text": [
      "[[1.         1.41421356 1.73205081 2.         2.23606798 2.44948974]\n",
      " [2.44948974 2.64575131 2.82842712 3.         3.16227766 5.        ]\n",
      " [3.31662479 3.46410162 3.60555128 3.74165739 3.87298335 6.70820393]\n",
      " [4.         4.12310563 4.24264069 4.35889894 4.47213595 7.74596669]\n",
      " [4.47213595 7.74596669 7.         5.91607978 3.46410162 4.58257569]\n",
      " [2.44948974 3.74165739 2.82842712 3.         3.16227766 5.        ]]\n"
     ]
    }
   ],
   "source": [
    "array=np.array([[1,2,3,4,5,6],[6,7,8,9,10,25],[11,12,13,14,15,45],[16,17,18,19,20,60],[20,60,49,35,12,21],[6,14,8,9,10,25]])\n",
    "result=(array**0.5)\n",
    "print(result)"
   ]
  },
  {
   "cell_type": "markdown",
   "id": "fbd2c00a",
   "metadata": {},
   "source": [
    "# Matrix Product and Multiplication:"
   ]
  },
  {
   "cell_type": "markdown",
   "id": "6527c3b5",
   "metadata": {},
   "source": [
    "#### 6. Create two 2x2 NumPy arrays and calculate their product using the np.matmul() function"
   ]
  },
  {
   "cell_type": "code",
   "execution_count": 32,
   "id": "5a849b7f",
   "metadata": {},
   "outputs": [
    {
     "name": "stdout",
     "output_type": "stream",
     "text": [
      "[[19 22]\n",
      " [43 50]]\n"
     ]
    }
   ],
   "source": [
    "array1=np.array([[1,2],[3,4]])\n",
    "array2=np.array([[5,6],[7,8]])\n",
    "product=np.matmul(array1,array2)\n",
    "print(product)\n"
   ]
  },
  {
   "cell_type": "markdown",
   "id": "0e74d640",
   "metadata": {},
   "source": [
    "#### 7. Create two 3x3 NumPy arrays and calculate their product using the np.dot() function."
   ]
  },
  {
   "cell_type": "code",
   "execution_count": 34,
   "id": "2b5b8f68",
   "metadata": {},
   "outputs": [
    {
     "name": "stdout",
     "output_type": "stream",
     "text": [
      "[[ 84  90  96]\n",
      " [201 216 231]\n",
      " [318 342 366]]\n"
     ]
    }
   ],
   "source": [
    "arr1 = np.array([[1, 2, 3], [4, 5, 6], [7, 8, 9]])\n",
    "arr2 = np.array([[10, 11, 12], [13, 14, 15], [16, 17, 18]])\n",
    "\n",
    "product = np.dot(arr1, arr2)\n",
    "\n",
    "print(product)"
   ]
  },
  {
   "cell_type": "markdown",
   "id": "1fa66862",
   "metadata": {},
   "source": [
    "#### 8. Create a 2x3 NumPy array and a 3x2 NumPy array, and calculate their product using the np.matmul() function.\n",
    "\n"
   ]
  },
  {
   "cell_type": "code",
   "execution_count": 37,
   "id": "cbc8fa0f",
   "metadata": {},
   "outputs": [
    {
     "name": "stdout",
     "output_type": "stream",
     "text": [
      "The array1 is:\n",
      " [[1 2 3]\n",
      " [4 5 6]]\n",
      "\n",
      "The array2 is:\n",
      " [[ 7  8]\n",
      " [ 9 10]\n",
      " [11 12]]\n",
      "\n",
      "The product of array1 and array2 is:\n",
      " [[ 58  64]\n",
      " [139 154]]\n"
     ]
    }
   ],
   "source": [
    "array1 = np.array([[1, 2, 3], [4, 5, 6]])\n",
    "print('The array1 is:\\n',array1)\n",
    "array2 = np.array([[7, 8], [9, 10], [11, 12]])\n",
    "print('\\nThe array2 is:\\n',array2)\n",
    "\n",
    "product = np.matmul(array1, array2)\n",
    "print('\\nThe product of array1 and array2 is:\\n',product)"
   ]
  },
  {
   "cell_type": "markdown",
   "id": "e47723be",
   "metadata": {},
   "source": [
    "#### 9. Create a 3x2 NumPy array and a 2x3 NumPy array, and calculate their product using the np.dot() function.\n"
   ]
  },
  {
   "cell_type": "code",
   "execution_count": 39,
   "id": "c3e18967",
   "metadata": {},
   "outputs": [
    {
     "name": "stdout",
     "output_type": "stream",
     "text": [
      "The array1 is:\n",
      " [[1 2 3]\n",
      " [4 5 6]]\n",
      "\n",
      "The array2 is:\n",
      " [[ 7  8]\n",
      " [ 9 10]\n",
      " [11 12]]\n",
      "\n",
      "The product of array1 and array2 is:\n",
      " [[ 58  64]\n",
      " [139 154]]\n"
     ]
    }
   ],
   "source": [
    "array1=np.array([[1,2,3],[4,5,6]])\n",
    "print('The array1 is:\\n',array1)\n",
    "array2 = np.array([[7, 8], [9, 10], [11, 12]])\n",
    "print('\\nThe array2 is:\\n',array2)\n",
    "\n",
    "product = np.dot(array1, array2)\n",
    "print('\\nThe product of array1 and array2 is:\\n',product)\n"
   ]
  },
  {
   "cell_type": "markdown",
   "id": "a6985a84",
   "metadata": {},
   "source": [
    "#### 10. Create a 4x4 NumPy array and its transpose using the np.transpose() function, then calculate their product using the np.matmul() function."
   ]
  },
  {
   "cell_type": "code",
   "execution_count": 44,
   "id": "dcd2afad",
   "metadata": {},
   "outputs": [
    {
     "name": "stdout",
     "output_type": "stream",
     "text": [
      "The array1 is:\n",
      " [[ 1  2  3  4]\n",
      " [ 5  6  7  8]\n",
      " [ 9 10 11 12]\n",
      " [13 14 15 16]]\n",
      "\n",
      "The array1 is:\n",
      " [[ 1  5  9 13]\n",
      " [ 2  6 10 14]\n",
      " [ 3  7 11 15]\n",
      " [ 4  8 12 16]]\n",
      "\n",
      "The product of array and transpose is:\n",
      " [[ 30  70 110 150]\n",
      " [ 70 174 278 382]\n",
      " [110 278 446 614]\n",
      " [150 382 614 846]]\n"
     ]
    }
   ],
   "source": [
    "array=np.array([[1, 2, 3, 4], [5, 6, 7, 8], [9, 10, 11, 12], [13, 14, 15, 16]])\n",
    "print('The array1 is:\\n',array)\n",
    "\n",
    "transpose = np.transpose(array)\n",
    "print('\\nThe array1 is:\\n',transpose)\n",
    "\n",
    "product = np.matmul(array, transpose)\n",
    "print('\\nThe product of array and transpose is:\\n',product)"
   ]
  },
  {
   "cell_type": "markdown",
   "id": "58596b6a",
   "metadata": {},
   "source": [
    "# Transpose:\n"
   ]
  },
  {
   "cell_type": "markdown",
   "id": "f6e18419",
   "metadata": {},
   "source": [
    "#### 11. Create a 2x3 NumPy array and its transpose using the np.transpose() function.\n"
   ]
  },
  {
   "cell_type": "code",
   "execution_count": 67,
   "id": "d964fe30",
   "metadata": {},
   "outputs": [
    {
     "name": "stdout",
     "output_type": "stream",
     "text": [
      "The  array is:\n",
      " [[1 2 3]\n",
      " [4 5 6]]\n",
      "\n",
      "The transpose of the array is:\n",
      " [[1 4]\n",
      " [2 5]\n",
      " [3 6]]\n"
     ]
    }
   ],
   "source": [
    "array = np.array([[1, 2, 3], [4, 5, 6]])\n",
    "print('The  array is:\\n',array)\n",
    "\n",
    "transpose = np.transpose(array)\n",
    "print('\\nThe transpose of the array is:\\n',transpose)\n"
   ]
  },
  {
   "cell_type": "markdown",
   "id": "5ec980f3",
   "metadata": {},
   "source": [
    "#### 12. Create a 3x4 NumPy array and its transpose using the np.transpose() function.\n"
   ]
  },
  {
   "cell_type": "code",
   "execution_count": 68,
   "id": "7614dcf8",
   "metadata": {},
   "outputs": [
    {
     "name": "stdout",
     "output_type": "stream",
     "text": [
      "The  array is:\n",
      " [[ 1  2  3  4]\n",
      " [ 5  6  7  8]\n",
      " [ 9 10 11 12]]\n",
      "\n",
      "The transpose of the array is:\n",
      " [[ 1  5  9]\n",
      " [ 2  6 10]\n",
      " [ 3  7 11]\n",
      " [ 4  8 12]]\n"
     ]
    }
   ],
   "source": [
    "array=np.array([[1,2,3,4],[5,6,7,8],[9,10,11,12]])\n",
    "print('The  array is:\\n',array)\n",
    "\n",
    "transpoe=np.transpose(array)\n",
    "print('\\nThe transpose of the array is:\\n',transpoe)"
   ]
  },
  {
   "cell_type": "markdown",
   "id": "2564591e",
   "metadata": {},
   "source": [
    "#### 13. Create a 5x5 NumPy array and its transpose using the np.transpose() function.\n"
   ]
  },
  {
   "cell_type": "code",
   "execution_count": 69,
   "id": "580785e8",
   "metadata": {},
   "outputs": [
    {
     "name": "stdout",
     "output_type": "stream",
     "text": [
      "The  array is:\n",
      "\n",
      " [[ 1  2  3  4  5]\n",
      " [ 6  7  8  9 10]\n",
      " [11 12 13 14 15]\n",
      " [16 17 18 19 20]\n",
      " [21 22 23 24 25]]\n",
      "\n",
      "The transpose of the array is:\n",
      "\n",
      " [[ 1  6 11 16 21]\n",
      " [ 2  7 12 17 22]\n",
      " [ 3  8 13 18 23]\n",
      " [ 4  9 14 19 24]\n",
      " [ 5 10 15 20 25]]\n"
     ]
    }
   ],
   "source": [
    "array=np.array([[1,2,3,4,5],[6,7,8,9,10],[11,12,13,14,15],[16,17,18,19,20],[21,22,23,24,25]])\n",
    "print('The  array is:\\n\\n',array)\n",
    "\n",
    "transpose=np.transpose(array)\n",
    "print('\\nThe transpose of the array is:\\n\\n',transpose)"
   ]
  },
  {
   "cell_type": "markdown",
   "id": "af737a3e",
   "metadata": {},
   "source": [
    "#### 14. Create a 2x2 NumPy array and its transpose using the np.transpose() function, then calculate the dot product of the two arrays using the np.dot() function."
   ]
  },
  {
   "cell_type": "code",
   "execution_count": 63,
   "id": "f6d32519",
   "metadata": {},
   "outputs": [
    {
     "name": "stdout",
     "output_type": "stream",
     "text": [
      "The  array is:\n",
      "\n",
      " [[1 2]\n",
      " [3 4]]\n",
      "\n",
      "The transpose of the array is:\n",
      "\n",
      " [[1 3]\n",
      " [2 4]]\n",
      "\n",
      "The dot product of the array and transpose is:\n",
      "\n",
      " [[ 5 11]\n",
      " [11 25]]\n"
     ]
    }
   ],
   "source": [
    "array = np.array([[1, 2], [3, 4]])\n",
    "print('The  array is:\\n\\n',array)\n",
    "\n",
    "transpose=np.transpose(array)\n",
    "print('\\nThe transpose of the array is:\\n\\n',transpose)\n",
    "\n",
    "dot_product = np.dot(array, transpose)\n",
    "print('\\nThe dot product of the array and transpose is:\\n\\n',dot_product)"
   ]
  },
  {
   "cell_type": "markdown",
   "id": "6fff1b92",
   "metadata": {},
   "source": [
    "# Dot Product:\n"
   ]
  },
  {
   "cell_type": "markdown",
   "id": "53f5270f",
   "metadata": {},
   "source": [
    "#### 15. Create two 2x2 NumPy arrays and calculate their dot product using the np.dot() function.\n"
   ]
  },
  {
   "cell_type": "code",
   "execution_count": 73,
   "id": "f15fcdee",
   "metadata": {},
   "outputs": [
    {
     "name": "stdout",
     "output_type": "stream",
     "text": [
      "The  array1 is:\n",
      "\n",
      " [[1 2]\n",
      " [3 4]]\n",
      "The  array2 is:\n",
      "\n",
      " [[5 6]\n",
      " [7 8]]\n",
      "\n",
      "The dot product of the array1 and array2 is:\n",
      "\n",
      " [[19 22]\n",
      " [43 50]]\n"
     ]
    }
   ],
   "source": [
    "array1= np.array([[1, 2], [3, 4]])\n",
    "print('The  array1 is:\\n\\n',array1)\n",
    "\n",
    "array2= np.array([[5,6], [7,8]])\n",
    "print('The  array2 is:\\n\\n',array2)\n",
    "\n",
    "dot_product = np.dot(array1, array2)\n",
    "print('\\nThe dot product of the array1 and array2 is:\\n\\n',dot_product)"
   ]
  },
  {
   "cell_type": "markdown",
   "id": "4728c51f",
   "metadata": {},
   "source": [
    "#### 16. Create two 3x3 NumPy arrays and calculate their dot product using the np.dot() function.\n"
   ]
  },
  {
   "cell_type": "code",
   "execution_count": 74,
   "id": "926834bf",
   "metadata": {},
   "outputs": [
    {
     "name": "stdout",
     "output_type": "stream",
     "text": [
      "The  array1 is:\n",
      "\n",
      " [[1 2 3]\n",
      " [4 5 6]\n",
      " [7 8 9]]\n",
      "The  array2 is:\n",
      "\n",
      " [[10 11 12]\n",
      " [13 14 15]\n",
      " [16 17 18]]\n",
      "\n",
      "The dot product of the array1 and array2 is:\n",
      "\n",
      " [[ 84  90  96]\n",
      " [201 216 231]\n",
      " [318 342 366]]\n"
     ]
    }
   ],
   "source": [
    "array1 = np.array([[1, 2, 3], [4, 5, 6], [7, 8, 9]])\n",
    "print('The  array1 is:\\n\\n',array1)\n",
    "\n",
    "array2 = np.array([[10, 11, 12], [13, 14, 15], [16, 17, 18]])\n",
    "print('The  array2 is:\\n\\n',array2)\n",
    "\n",
    "dot_product = np.dot(array1, array2)\n",
    "print('\\nThe dot product of the array1 and array2 is:\\n\\n',dot_product)"
   ]
  },
  {
   "cell_type": "markdown",
   "id": "115f5357",
   "metadata": {},
   "source": [
    "#### 17. Create a 2x3 NumPy array and a 3x2 NumPy array, and calculate their dot product using the np.dot() function.\n"
   ]
  },
  {
   "cell_type": "code",
   "execution_count": 75,
   "id": "d68ea770",
   "metadata": {},
   "outputs": [
    {
     "name": "stdout",
     "output_type": "stream",
     "text": [
      "The  array1 is:\n",
      "\n",
      " [[1 2 3]\n",
      " [4 5 6]]\n",
      "The  array2 is:\n",
      "\n",
      " [[ 7  8]\n",
      " [ 9 10]\n",
      " [11 12]]\n",
      "\n",
      "The dot product of the array1 and array2 is:\n",
      "\n",
      " [[ 58  64]\n",
      " [139 154]]\n"
     ]
    }
   ],
   "source": [
    "array1 = np.array([[1, 2, 3], [4, 5, 6]])\n",
    "print('The  array1 is:\\n\\n',array1)\n",
    "\n",
    "array2 = np.array([[7, 8], [9, 10], [11, 12]])\n",
    "print('The  array2 is:\\n\\n',array2)\n",
    "\n",
    "dot_product = np.dot(array1, array2)\n",
    "print('\\nThe dot product of the array1 and array2 is:\\n\\n',dot_product)"
   ]
  },
  {
   "cell_type": "markdown",
   "id": "f729673a",
   "metadata": {},
   "source": [
    "#### 18. Create a 3x2 NumPy array and a 2x3 NumPy array, and calculate their dot product using the np.dot() function.\n"
   ]
  },
  {
   "cell_type": "code",
   "execution_count": 76,
   "id": "9940ae91",
   "metadata": {},
   "outputs": [
    {
     "name": "stdout",
     "output_type": "stream",
     "text": [
      "The  array1 is:\n",
      "\n",
      " [[ 7  8]\n",
      " [ 9 10]\n",
      " [11 12]]\n",
      "The  array2 is:\n",
      "\n",
      " [[1 2 3]\n",
      " [4 5 6]]\n",
      "\n",
      "The dot product of the array1 and array2 is:\n",
      "\n",
      " [[ 39  54  69]\n",
      " [ 49  68  87]\n",
      " [ 59  82 105]]\n"
     ]
    }
   ],
   "source": [
    "array1 = np.array([[7, 8], [9, 10], [11, 12]])\n",
    "print('The  array1 is:\\n\\n',array1)\n",
    "\n",
    "array2 =np.array([[1, 2, 3], [4, 5, 6]])   \n",
    "print('The  array2 is:\\n\\n',array2)\n",
    "\n",
    "dot_product = np.dot(array1, array2)\n",
    "print('\\nThe dot product of the array1 and array2 is:\\n\\n',dot_product)"
   ]
  },
  {
   "cell_type": "markdown",
   "id": "6dcbfa20",
   "metadata": {},
   "source": [
    "#### 19. Create a 4x4 NumPy array and its transpose using the np.transpose() function, then calculate their dot product using the np.dot() function.\n"
   ]
  },
  {
   "cell_type": "code",
   "execution_count": 77,
   "id": "6789eaca",
   "metadata": {},
   "outputs": [
    {
     "name": "stdout",
     "output_type": "stream",
     "text": [
      "The  array is:\n",
      "\n",
      " [[ 1  2  3  4]\n",
      " [ 5  6  7  8]\n",
      " [ 9 10 11 12]\n",
      " [13 14 15 16]]\n",
      "\n",
      "The transpose of the array is:\n",
      "\n",
      " [[ 1  5  9 13]\n",
      " [ 2  6 10 14]\n",
      " [ 3  7 11 15]\n",
      " [ 4  8 12 16]]\n",
      "\n",
      "The dot product of the array and transpose is:\n",
      "\n",
      " [[ 30  70 110 150]\n",
      " [ 70 174 278 382]\n",
      " [110 278 446 614]\n",
      " [150 382 614 846]]\n"
     ]
    }
   ],
   "source": [
    "array = np.array([[1, 2, 3, 4], [5, 6, 7, 8], [9, 10, 11, 12], [13, 14, 15, 16]])\n",
    "print('The  array is:\\n\\n',array)\n",
    "\n",
    "\n",
    "transpose = np.transpose(array)\n",
    "print('\\nThe transpose of the array is:\\n\\n',transpose)\n",
    "\n",
    "dot_product = np.dot(array, transpose)\n",
    "print('\\nThe dot product of the array and transpose is:\\n\\n',dot_product)\n",
    "\n"
   ]
  },
  {
   "cell_type": "markdown",
   "id": "2016f2ce",
   "metadata": {},
   "source": [
    "#### 20. Create a 5x5 NumPy array and its inverse using the np.linalg.inv() function, then calculate the dot product of the array and its inverse using the np.dot() function."
   ]
  },
  {
   "cell_type": "code",
   "execution_count": 80,
   "id": "49d20053",
   "metadata": {},
   "outputs": [
    {
     "name": "stdout",
     "output_type": "stream",
     "text": [
      "The array is:\n",
      " [[4 4 5 8 2]\n",
      " [1 7 5 9 1]\n",
      " [5 2 4 2 2]\n",
      " [9 2 8 6 3]\n",
      " [7 7 1 6 6]]\n",
      "\n",
      "The array is:\n",
      " [[-7.06329114  3.11392405 -7.02531646  5.82278481  1.26582278]\n",
      " [-3.17721519  1.51898734 -2.67088608  2.30379747  0.5443038 ]\n",
      " [ 4.84810127 -2.12658228  5.13924051 -4.02531646 -0.96202532]\n",
      " [-0.75949367  0.36708861 -1.30379747  0.87341772  0.18987342]\n",
      " [11.89873418 -5.41772152 11.75949367 -9.6835443  -1.97468354]]\n",
      "\n",
      "The dot product of array is:\n",
      " [[ 1.00000000e+00 -1.77635684e-15  0.00000000e+00  0.00000000e+00\n",
      "  -8.88178420e-16]\n",
      " [ 1.77635684e-15  1.00000000e+00  1.77635684e-15  0.00000000e+00\n",
      "   0.00000000e+00]\n",
      " [ 0.00000000e+00 -1.77635684e-15  1.00000000e+00  3.55271368e-15\n",
      "  -1.33226763e-15]\n",
      " [-1.77635684e-15  0.00000000e+00 -5.32907052e-15  1.00000000e+00\n",
      "  -3.10862447e-15]\n",
      " [-3.55271368e-15  0.00000000e+00 -1.06581410e-14  1.42108547e-14\n",
      "   1.00000000e+00]]\n"
     ]
    }
   ],
   "source": [
    "array = np.random.randint(1, 10, (5, 5))\n",
    "print('The array is:\\n',array)\n",
    "\n",
    "inverse = np.linalg.inv(array)\n",
    "print('\\nThe array is:\\n',inverse)\n",
    "\n",
    "\n",
    "dot_product = np.dot(array, inverse)\n",
    "print('\\nThe dot product of array is:\\n',dot_product)"
   ]
  }
 ],
 "metadata": {
  "kernelspec": {
   "display_name": "Python 3 (ipykernel)",
   "language": "python",
   "name": "python3"
  },
  "language_info": {
   "codemirror_mode": {
    "name": "ipython",
    "version": 3
   },
   "file_extension": ".py",
   "mimetype": "text/x-python",
   "name": "python",
   "nbconvert_exporter": "python",
   "pygments_lexer": "ipython3",
   "version": "3.9.13"
  }
 },
 "nbformat": 4,
 "nbformat_minor": 5
}
