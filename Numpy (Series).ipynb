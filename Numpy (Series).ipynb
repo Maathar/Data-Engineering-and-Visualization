{
 "cells": [
  {
   "cell_type": "markdown",
   "id": "63e3e078",
   "metadata": {},
   "source": [
    "## Data Engineering \n",
    "### Numpy (Series)\n"
   ]
  },
  {
   "cell_type": "markdown",
   "id": "eb33b096",
   "metadata": {},
   "source": [
    "### 1. Create a Series using the following data: data = [10, 20, 30, 40, 50]\n"
   ]
  },
  {
   "cell_type": "code",
   "execution_count": 4,
   "id": "e23d882a",
   "metadata": {},
   "outputs": [
    {
     "name": "stdout",
     "output_type": "stream",
     "text": [
      "The series:\n",
      " 0    10\n",
      "1    20\n",
      "2    30\n",
      "3    40\n",
      "4    50\n",
      "dtype: int64\n"
     ]
    }
   ],
   "source": [
    "import numpy as np\n",
    "import pandas as pd\n",
    "from pandas import Series,DataFrame\n",
    "data=Series([10,20,30,40,50])\n",
    "print('The series:\\n',data)"
   ]
  },
  {
   "cell_type": "markdown",
   "id": "123dc8c5",
   "metadata": {},
   "source": [
    "### 2. Assign the following index labels to the Series: index = ['a', 'b', 'c', 'd', 'e']\n"
   ]
  },
  {
   "cell_type": "code",
   "execution_count": 5,
   "id": "0d9bfc7b",
   "metadata": {},
   "outputs": [
    {
     "name": "stdout",
     "output_type": "stream",
     "text": [
      "The series:\n",
      " a    10\n",
      "b    20\n",
      "c    30\n",
      "d    40\n",
      "e    50\n",
      "dtype: int64\n"
     ]
    }
   ],
   "source": [
    "data=Series([10,20,30,40,50],index=['a','b','c','d','e'])\n",
    "print('The series:\\n',data)"
   ]
  },
  {
   "cell_type": "markdown",
   "id": "4a58c1b2",
   "metadata": {},
   "source": [
    "### 3. Use index values to select the values of the Series for the labels 'b' and 'e'."
   ]
  },
  {
   "cell_type": "code",
   "execution_count": 20,
   "id": "0eca405f",
   "metadata": {
    "scrolled": true
   },
   "outputs": [
    {
     "name": "stdout",
     "output_type": "stream",
     "text": [
      "The series:\n",
      " a    10\n",
      "b    20\n",
      "c    30\n",
      "d    40\n",
      "e    50\n",
      "dtype: int64\n",
      "\n",
      "The value of index b is:\n",
      " 20\n",
      "The value of index e is:\n",
      " 50\n"
     ]
    }
   ],
   "source": [
    "data=Series([10,20,30,40,50],index=['a','b','c','d','e'])\n",
    "print('The series:\\n',data)\n",
    "\n",
    "b=data['b']\n",
    "print('\\nThe value of index b is:\\n',b)\n",
    "\n",
    "e=data['e']\n",
    "print('The value of index e is:\\n',e)"
   ]
  },
  {
   "cell_type": "markdown",
   "id": "aa596a24",
   "metadata": {},
   "source": [
    "### 4. Check if the Series contains the value 20 using a boolean array."
   ]
  },
  {
   "cell_type": "code",
   "execution_count": 31,
   "id": "1a340a8c",
   "metadata": {},
   "outputs": [
    {
     "name": "stdout",
     "output_type": "stream",
     "text": [
      "The series:\n",
      " a    10\n",
      "b    20\n",
      "c    30\n",
      "d    40\n",
      "e    50\n",
      "dtype: int64\n",
      "\n",
      "The boolean array:\n",
      " [False  True False False False]\n"
     ]
    }
   ],
   "source": [
    "data=Series([10,20,30,40,50],index=['a','b','c','d','e'])\n",
    "print('The series:\\n',data)\n",
    "\n",
    "boolean_array = np.isin(data, [20])\n",
    "print('\\nThe boolean array:\\n', boolean_array)"
   ]
  },
  {
   "cell_type": "markdown",
   "id": "b29d29d4",
   "metadata": {},
   "source": [
    "### 5. Check if the Series contains the values 15 and 20 using a boolean array."
   ]
  },
  {
   "cell_type": "code",
   "execution_count": 32,
   "id": "1bca5c13",
   "metadata": {},
   "outputs": [
    {
     "name": "stdout",
     "output_type": "stream",
     "text": [
      "The series:\n",
      " a    10\n",
      "b    20\n",
      "c    30\n",
      "d    40\n",
      "e    50\n",
      "dtype: int64\n",
      "\n",
      "The boolean array:\n",
      " [False  True False False False]\n"
     ]
    }
   ],
   "source": [
    "data=Series([10,20,30,40,50],index=['a','b','c','d','e'])\n",
    "print('The series:\\n',data)\n",
    "\n",
    "boolean_array = np.isin(data, [15,20])\n",
    "print('\\nThe boolean array:\\n', boolean_array)"
   ]
  },
  {
   "cell_type": "markdown",
   "id": "bf599145",
   "metadata": {},
   "source": [
    "### 6. Add the value 5 to each element of the Series using array operations."
   ]
  },
  {
   "cell_type": "code",
   "execution_count": 33,
   "id": "fff24b86",
   "metadata": {},
   "outputs": [
    {
     "name": "stdout",
     "output_type": "stream",
     "text": [
      "The series:\n",
      " a    10\n",
      "b    20\n",
      "c    30\n",
      "d    40\n",
      "e    50\n",
      "dtype: int64\n",
      "The new series:\n",
      " a    15\n",
      "b    25\n",
      "c    35\n",
      "d    45\n",
      "e    55\n",
      "dtype: int64\n"
     ]
    }
   ],
   "source": [
    "data=Series([10,20,30,40,50],index=['a','b','c','d','e'])\n",
    "print('The series:\\n',data)\n",
    "\n",
    "new_data=data+5\n",
    "print('The new series:\\n',new_data)"
   ]
  },
  {
   "cell_type": "markdown",
   "id": "ce892c34",
   "metadata": {},
   "source": [
    "### 7. Convert the Series into a Python dictionary and check its values.\n"
   ]
  },
  {
   "cell_type": "code",
   "execution_count": 37,
   "id": "0c54b1d0",
   "metadata": {},
   "outputs": [
    {
     "name": "stdout",
     "output_type": "stream",
     "text": [
      "The dictionary:\n",
      " {'a': 10, 'b': 20, 'c': 30, 'd': 40, 'e': 50}\n"
     ]
    }
   ],
   "source": [
    "dictionary = data.to_dict()\n",
    "print('The dictionary:\\n', dictionary)\n"
   ]
  },
  {
   "cell_type": "markdown",
   "id": "c50cbd25",
   "metadata": {},
   "source": [
    "### 8. Pass a dictionary to the Series constructor and assign the following keys and values:\n",
    "{'a': 10, 'b': 20, 'c': 30, 'd': 40, 'e': 50, 'f': 60}"
   ]
  },
  {
   "cell_type": "code",
   "execution_count": 39,
   "id": "2d2bd915",
   "metadata": {},
   "outputs": [
    {
     "name": "stdout",
     "output_type": "stream",
     "text": [
      "The series of a dictionary:\n",
      " a    10\n",
      "b    20\n",
      "c    30\n",
      "d    40\n",
      "e    50\n",
      "dtype: int64\n"
     ]
    }
   ],
   "source": [
    "s=pd.Series(dictionary)\n",
    "print('The series of a dictionary:\\n', s)"
   ]
  },
  {
   "cell_type": "markdown",
   "id": "21cedfb7",
   "metadata": {},
   "source": [
    "### 9. Check if any values in the Series are null or not null using isnull() and notnull() methods."
   ]
  },
  {
   "cell_type": "code",
   "execution_count": 43,
   "id": "5c280189",
   "metadata": {},
   "outputs": [
    {
     "name": "stdout",
     "output_type": "stream",
     "text": [
      "The series with isnull function : \n",
      " a    False\n",
      "b    False\n",
      "c    False\n",
      "d    False\n",
      "e    False\n",
      "dtype: bool\n",
      "The series with notnull function: \n",
      " a    True\n",
      "b    True\n",
      "c    True\n",
      "d    True\n",
      "e    True\n",
      "dtype: bool\n"
     ]
    }
   ],
   "source": [
    "series_isnull=pd.isnull(s)\n",
    "print('The series with isnull function : \\n',series_isnull)\n",
    "series_notnull=pd.notnull(s)\n",
    "print('The series with notnull function: \\n',series_notnull)"
   ]
  },
  {
   "cell_type": "markdown",
   "id": "3a0d9796",
   "metadata": {},
   "source": [
    "### 10. Create another Series using the following data: data2 = [20, 30, 40, 50, 60]\n"
   ]
  },
  {
   "cell_type": "code",
   "execution_count": 46,
   "id": "d97c2a10",
   "metadata": {},
   "outputs": [
    {
     "name": "stdout",
     "output_type": "stream",
     "text": [
      "0    20\n",
      "1    30\n",
      "2    40\n",
      "3    50\n",
      "4    60\n",
      "dtype: int64\n"
     ]
    }
   ],
   "source": [
    "data2=pd.Series([20, 30, 40, 50, 60])\n",
    "print(data2)"
   ]
  },
  {
   "cell_type": "markdown",
   "id": "73eccb26",
   "metadata": {},
   "source": [
    "### 11. Assign the following index labels to the second Series: index2 = ['b', 'c', 'd', 'e', 'f']\n"
   ]
  },
  {
   "cell_type": "code",
   "execution_count": 47,
   "id": "d6f19cff",
   "metadata": {},
   "outputs": [
    {
     "name": "stdout",
     "output_type": "stream",
     "text": [
      "The series:\n",
      " b    10\n",
      "c    20\n",
      "d    30\n",
      "e    40\n",
      "f    50\n",
      "dtype: int64\n"
     ]
    }
   ],
   "source": [
    "data2=Series([10,20,30,40,50],index=['b','c','d','e','f'])\n",
    "print('The series:\\n',data2)\n"
   ]
  },
  {
   "cell_type": "markdown",
   "id": "018f12f9",
   "metadata": {},
   "source": [
    "### 12. Add the two Series together and observe how pandas automatically aligns the data based on their index labels."
   ]
  },
  {
   "cell_type": "code",
   "execution_count": 51,
   "id": "b6be7805",
   "metadata": {},
   "outputs": [
    {
     "name": "stdout",
     "output_type": "stream",
     "text": [
      "The data:\n",
      " a    15\n",
      "b    25\n",
      "c    35\n",
      "d    45\n",
      "e    55\n",
      "dtype: int64\n",
      "\n",
      "The data2:\n",
      " b    10\n",
      "c    20\n",
      "d    30\n",
      "e    40\n",
      "f    50\n",
      "dtype: int64\n",
      "\n",
      "The merged series a     NaN\n",
      "b    35.0\n",
      "c    55.0\n",
      "d    75.0\n",
      "e    95.0\n",
      "f     NaN\n",
      "dtype: float64\n"
     ]
    }
   ],
   "source": [
    "print('The data:\\n',new_data)\n",
    "print('\\nThe data2:\\n',data2)\n",
    "merge_series=new_data+data2\n",
    "print('\\nThe merged series',merge_series)"
   ]
  },
  {
   "cell_type": "markdown",
   "id": "e25ef418",
   "metadata": {},
   "source": [
    "### 13. Use the unique() method to find the unique values in the Series."
   ]
  },
  {
   "cell_type": "code",
   "execution_count": 62,
   "id": "944d9e44",
   "metadata": {},
   "outputs": [
    {
     "name": "stdout",
     "output_type": "stream",
     "text": [
      "b    10\n",
      "c    20\n",
      "d    30\n",
      "e    40\n",
      "f    50\n",
      "dtype: int64\n"
     ]
    }
   ],
   "source": [
    "unique_values = data2.unique()\n",
    "\n",
    "print(data2)"
   ]
  },
  {
   "cell_type": "markdown",
   "id": "883bb586",
   "metadata": {},
   "source": [
    "### 14. Use the sort_values() method to sort the Series in ascending order by value.\n"
   ]
  },
  {
   "cell_type": "code",
   "execution_count": 57,
   "id": "bdf97857",
   "metadata": {},
   "outputs": [
    {
     "name": "stdout",
     "output_type": "stream",
     "text": [
      "The sorted series:\n",
      " b    10\n",
      "c    20\n",
      "d    30\n",
      "e    40\n",
      "f    50\n",
      "dtype: int64\n"
     ]
    }
   ],
   "source": [
    "\n",
    "sorted_series = data2.sort_values()\n",
    "\n",
    "print('The sorted series:\\n',sorted_series)"
   ]
  },
  {
   "cell_type": "markdown",
   "id": "4df70148",
   "metadata": {},
   "source": [
    "### 15. Save the Series to a text file using the to_csv() method."
   ]
  },
  {
   "cell_type": "code",
   "execution_count": 67,
   "id": "619040f3",
   "metadata": {},
   "outputs": [
    {
     "name": "stdout",
     "output_type": "stream",
     "text": [
      "Series saved to file\n"
     ]
    }
   ],
   "source": [
    "data2.to_csv('data2.csv')\n",
    "print('Series saved to file')"
   ]
  },
  {
   "cell_type": "code",
   "execution_count": null,
   "id": "8a2e57f8",
   "metadata": {},
   "outputs": [],
   "source": []
  }
 ],
 "metadata": {
  "kernelspec": {
   "display_name": "Python 3 (ipykernel)",
   "language": "python",
   "name": "python3"
  },
  "language_info": {
   "codemirror_mode": {
    "name": "ipython",
    "version": 3
   },
   "file_extension": ".py",
   "mimetype": "text/x-python",
   "name": "python",
   "nbconvert_exporter": "python",
   "pygments_lexer": "ipython3",
   "version": "3.9.13"
  }
 },
 "nbformat": 4,
 "nbformat_minor": 5
}
