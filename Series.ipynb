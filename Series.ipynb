{
 "cells": [
  {
   "cell_type": "markdown",
   "id": "feaa01fb",
   "metadata": {},
   "source": [
    "# Series"
   ]
  },
  {
   "cell_type": "code",
   "execution_count": 28,
   "id": "d188ffd5",
   "metadata": {},
   "outputs": [],
   "source": [
    "import numpy as np\n",
    "import pandas as pd \n",
    "from pandas import Series,DataFrame"
   ]
  },
  {
   "cell_type": "code",
   "execution_count": 29,
   "id": "4e18262f",
   "metadata": {},
   "outputs": [
    {
     "name": "stdout",
     "output_type": "stream",
     "text": [
      "The series:\n",
      " 0    2\n",
      "1    4\n",
      "2    6\n",
      "3    8\n",
      "dtype: int64\n",
      "\n",
      "The values of the series:\n",
      " [2 4 6 8]\n",
      "\n",
      "The index:\n",
      " RangeIndex(start=0, stop=4, step=1)\n"
     ]
    }
   ],
   "source": [
    "obj=Series([2,4,6,8])\n",
    "print('The series:\\n',obj)\n",
    "print('\\nThe values of the series:\\n',obj.values)\n",
    "print('\\nThe index:\\n',obj.index)"
   ]
  },
  {
   "cell_type": "code",
   "execution_count": 30,
   "id": "bbfd6884",
   "metadata": {},
   "outputs": [
    {
     "data": {
      "text/plain": [
       "Maathar    10\n",
       "Noor       20\n",
       "Fatma      30\n",
       "Jehan      40\n",
       "dtype: int64"
      ]
     },
     "execution_count": 30,
     "metadata": {},
     "output_type": "execute_result"
    }
   ],
   "source": [
    "obj=Series([10,20,30,40],index=['Maathar','Noor','Fatma','Jehan'])\n",
    "obj\n"
   ]
  },
  {
   "cell_type": "code",
   "execution_count": 31,
   "id": "f31d3fea",
   "metadata": {},
   "outputs": [
    {
     "data": {
      "text/plain": [
       "10"
      ]
     },
     "execution_count": 31,
     "metadata": {},
     "output_type": "execute_result"
    }
   ],
   "source": [
    "obj['Maathar']\n",
    "\n"
   ]
  },
  {
   "cell_type": "code",
   "execution_count": 32,
   "id": "ed29287f",
   "metadata": {},
   "outputs": [
    {
     "data": {
      "text/plain": [
       "Jehan    40\n",
       "dtype: int64"
      ]
     },
     "execution_count": 32,
     "metadata": {},
     "output_type": "execute_result"
    }
   ],
   "source": [
    "obj[obj==40]"
   ]
  },
  {
   "cell_type": "code",
   "execution_count": 40,
   "id": "55041035",
   "metadata": {},
   "outputs": [
    {
     "data": {
      "text/plain": [
       "Fatma    30\n",
       "Jehan    40\n",
       "dtype: int64"
      ]
     },
     "execution_count": 40,
     "metadata": {},
     "output_type": "execute_result"
    }
   ],
   "source": [
    "obj[obj>25]"
   ]
  },
  {
   "cell_type": "code",
   "execution_count": 34,
   "id": "788c8f74",
   "metadata": {},
   "outputs": [
    {
     "data": {
      "text/plain": [
       "True"
      ]
     },
     "execution_count": 34,
     "metadata": {},
     "output_type": "execute_result"
    }
   ],
   "source": [
    "'Noor' in obj"
   ]
  },
  {
   "cell_type": "code",
   "execution_count": 39,
   "id": "d2994e9e",
   "metadata": {},
   "outputs": [
    {
     "name": "stdout",
     "output_type": "stream",
     "text": [
      "Th series:\n",
      " Maathar    10\n",
      "Noor       20\n",
      "Fatma      30\n",
      "Jehan      40\n",
      "dtype: int64\n",
      "\n",
      "The dictionary of the series:\n",
      " {'Maathar': 10, 'Noor': 20, 'Fatma': 30, 'Jehan': 40}\n"
     ]
    }
   ],
   "source": [
    "print('Th series:\\n',obj)\n",
    "obj_dic=obj.to_dict()\n",
    "print('\\nThe dictionary of the series:\\n',obj_dic)"
   ]
  },
  {
   "cell_type": "code",
   "execution_count": 41,
   "id": "6771d970",
   "metadata": {},
   "outputs": [
    {
     "data": {
      "text/plain": [
       "Maathar    10\n",
       "Noor       20\n",
       "Fatma      30\n",
       "Jehan      40\n",
       "dtype: int64"
      ]
     },
     "execution_count": 41,
     "metadata": {},
     "output_type": "execute_result"
    }
   ],
   "source": [
    "original=Series(obj_dic)\n",
    "original"
   ]
  },
  {
   "cell_type": "code",
   "execution_count": 42,
   "id": "a648a435",
   "metadata": {},
   "outputs": [
    {
     "data": {
      "text/plain": [
       "Maathar    10.0\n",
       "Noor       20.0\n",
       "Fatma      30.0\n",
       "Jehan      40.0\n",
       "Asma        NaN\n",
       "dtype: float64"
      ]
     },
     "execution_count": 42,
     "metadata": {},
     "output_type": "execute_result"
    }
   ],
   "source": [
    "name=['Maathar','Noor','Fatma','Jehan','Asma']\n",
    "obje=Series(obj_dic,index=name)\n",
    "obje"
   ]
  },
  {
   "cell_type": "code",
   "execution_count": 43,
   "id": "63f62822",
   "metadata": {},
   "outputs": [
    {
     "data": {
      "text/plain": [
       "Maathar    False\n",
       "Noor       False\n",
       "Fatma      False\n",
       "Jehan      False\n",
       "Asma        True\n",
       "dtype: bool"
      ]
     },
     "execution_count": 43,
     "metadata": {},
     "output_type": "execute_result"
    }
   ],
   "source": [
    "pd.isnull(obje)"
   ]
  },
  {
   "cell_type": "code",
   "execution_count": 44,
   "id": "cc3703ab",
   "metadata": {},
   "outputs": [
    {
     "data": {
      "text/plain": [
       "Maathar     True\n",
       "Noor        True\n",
       "Fatma       True\n",
       "Jehan       True\n",
       "Asma       False\n",
       "dtype: bool"
      ]
     },
     "execution_count": 44,
     "metadata": {},
     "output_type": "execute_result"
    }
   ],
   "source": [
    "pd.notnull(obje)"
   ]
  },
  {
   "cell_type": "code",
   "execution_count": 46,
   "id": "4393ebcb",
   "metadata": {},
   "outputs": [
    {
     "data": {
      "text/plain": [
       "name\n",
       "Maathar    10.0\n",
       "Noor       20.0\n",
       "Fatma      30.0\n",
       "Jehan      40.0\n",
       "Asma        NaN\n",
       "dtype: float64"
      ]
     },
     "execution_count": 46,
     "metadata": {},
     "output_type": "execute_result"
    }
   ],
   "source": [
    "obje.index.name='name'\n",
    "obje"
   ]
  },
  {
   "cell_type": "code",
   "execution_count": 48,
   "id": "8bc4ac44",
   "metadata": {},
   "outputs": [
    {
     "data": {
      "text/plain": [
       "name\n",
       "Maathar    10.0\n",
       "Noor       20.0\n",
       "Fatma      30.0\n",
       "Jehan      40.0\n",
       "Asma        NaN\n",
       "Name: Students grades, dtype: float64"
      ]
     },
     "execution_count": 48,
     "metadata": {},
     "output_type": "execute_result"
    }
   ],
   "source": [
    "obje.name='Students grades'\n",
    "obje"
   ]
  },
  {
   "cell_type": "code",
   "execution_count": 49,
   "id": "55e09105",
   "metadata": {},
   "outputs": [
    {
     "name": "stdout",
     "output_type": "stream",
     "text": [
      "Maathar    10\n",
      "Noor       20\n",
      "Fatma      30\n",
      "Jehan      40\n",
      "dtype: int64\n",
      "name\n",
      "Maathar    10.0\n",
      "Noor       20.0\n",
      "Fatma      30.0\n",
      "Jehan      40.0\n",
      "Asma        NaN\n",
      "Name: Students grades, dtype: float64\n",
      "Asma        NaN\n",
      "Fatma      60.0\n",
      "Jehan      80.0\n",
      "Maathar    20.0\n",
      "Noor       40.0\n",
      "dtype: float64\n"
     ]
    }
   ],
   "source": [
    "print(obj)\n",
    "print(obje)\n",
    "new=obj+obje\n",
    "print (new)"
   ]
  }
 ],
 "metadata": {
  "kernelspec": {
   "display_name": "Python 3 (ipykernel)",
   "language": "python",
   "name": "python3"
  },
  "language_info": {
   "codemirror_mode": {
    "name": "ipython",
    "version": 3
   },
   "file_extension": ".py",
   "mimetype": "text/x-python",
   "name": "python",
   "nbconvert_exporter": "python",
   "pygments_lexer": "ipython3",
   "version": "3.9.13"
  }
 },
 "nbformat": 4,
 "nbformat_minor": 5
}
