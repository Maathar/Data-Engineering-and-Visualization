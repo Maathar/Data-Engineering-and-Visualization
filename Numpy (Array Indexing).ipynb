{
 "cells": [
  {
   "cell_type": "markdown",
   "id": "cbc69270",
   "metadata": {},
   "source": [
    "### Data Engineering \n",
    "#### Numpy (Array Indexing)\n"
   ]
  },
  {
   "cell_type": "markdown",
   "id": "7d3dcd4e",
   "metadata": {},
   "source": [
    "#### 1. Create a 1D NumPy array with the integers from 0 to 9. Extract the 3rd element from the array"
   ]
  },
  {
   "cell_type": "code",
   "execution_count": 1,
   "id": "d1cd573d",
   "metadata": {},
   "outputs": [],
   "source": [
    "import numpy as np"
   ]
  },
  {
   "cell_type": "code",
   "execution_count": 4,
   "id": "7af5d6c3",
   "metadata": {},
   "outputs": [
    {
     "data": {
      "text/plain": [
       "array([0, 1, 2, 3, 4, 5, 6, 7, 8, 9])"
      ]
     },
     "execution_count": 4,
     "metadata": {},
     "output_type": "execute_result"
    }
   ],
   "source": [
    "arr=np.arange(0,10)\n",
    "arr\n"
   ]
  },
  {
   "cell_type": "code",
   "execution_count": 6,
   "id": "893ec91e",
   "metadata": {},
   "outputs": [
    {
     "data": {
      "text/plain": [
       "2"
      ]
     },
     "execution_count": 6,
     "metadata": {},
     "output_type": "execute_result"
    }
   ],
   "source": [
    "arr[2]"
   ]
  },
  {
   "cell_type": "markdown",
   "id": "eece5eb5",
   "metadata": {},
   "source": [
    "#### 2. Create a 2D NumPy array with shape (3, 3) and fill it with random numbers. Extract the element at row 2, column 1."
   ]
  },
  {
   "cell_type": "code",
   "execution_count": 7,
   "id": "006297b1",
   "metadata": {},
   "outputs": [
    {
     "data": {
      "text/plain": [
       "array([[0.50654318, 0.61354688, 0.37701314],\n",
       "       [0.21370404, 0.98085188, 0.53098756],\n",
       "       [0.69876956, 0.09280342, 0.69412318]])"
      ]
     },
     "execution_count": 7,
     "metadata": {},
     "output_type": "execute_result"
    }
   ],
   "source": [
    "arr=np.random.rand(3,3)\n",
    "arr"
   ]
  },
  {
   "cell_type": "code",
   "execution_count": 9,
   "id": "812f8709",
   "metadata": {},
   "outputs": [
    {
     "data": {
      "text/plain": [
       "0.2137040449424641"
      ]
     },
     "execution_count": 9,
     "metadata": {},
     "output_type": "execute_result"
    }
   ],
   "source": [
    "arr[1][0]"
   ]
  },
  {
   "cell_type": "markdown",
   "id": "4c239a3d",
   "metadata": {},
   "source": [
    "#### 3. Create a 2D NumPy array with shape (4, 4) and fill it with random numbers. Extract the subarray consisting of the first 2 rows and the last 2 columns."
   ]
  },
  {
   "cell_type": "code",
   "execution_count": 10,
   "id": "367efff4",
   "metadata": {},
   "outputs": [
    {
     "data": {
      "text/plain": [
       "array([[0.41447342, 0.22216465, 0.87608975, 0.22332433],\n",
       "       [0.44886536, 0.89227939, 0.82745815, 0.24977603],\n",
       "       [0.1110191 , 0.91313488, 0.15099368, 0.10060302],\n",
       "       [0.6477815 , 0.32527211, 0.94664289, 0.98026859]])"
      ]
     },
     "execution_count": 10,
     "metadata": {},
     "output_type": "execute_result"
    }
   ],
   "source": [
    "arr=np.random.rand(4,4) \n",
    "arr"
   ]
  },
  {
   "cell_type": "code",
   "execution_count": 11,
   "id": "afd35b2d",
   "metadata": {},
   "outputs": [
    {
     "data": {
      "text/plain": [
       "array([[0.87608975, 0.22332433],\n",
       "       [0.82745815, 0.24977603]])"
      ]
     },
     "execution_count": 11,
     "metadata": {},
     "output_type": "execute_result"
    }
   ],
   "source": [
    "arr[:2,-2:]"
   ]
  },
  {
   "cell_type": "markdown",
   "id": "006cbdc5",
   "metadata": {},
   "source": [
    "#### 4. Create a 1D NumPy array with the integers from 0 to 9. Copy a slice of the array consisting of the first 3 elements.\n"
   ]
  },
  {
   "cell_type": "code",
   "execution_count": 12,
   "id": "5f5cc0bd",
   "metadata": {},
   "outputs": [
    {
     "data": {
      "text/plain": [
       "array([0, 1, 2, 3, 4, 5, 6, 7, 8, 9])"
      ]
     },
     "execution_count": 12,
     "metadata": {},
     "output_type": "execute_result"
    }
   ],
   "source": [
    "arr=np.arange(0,10)\n",
    "arr"
   ]
  },
  {
   "cell_type": "code",
   "execution_count": 13,
   "id": "6fbfe58a",
   "metadata": {},
   "outputs": [
    {
     "data": {
      "text/plain": [
       "array([0, 1, 2])"
      ]
     },
     "execution_count": 13,
     "metadata": {},
     "output_type": "execute_result"
    }
   ],
   "source": [
    "slice_of_arr=arr[:3]\n",
    "slice_of_arr"
   ]
  },
  {
   "cell_type": "markdown",
   "id": "483def4c",
   "metadata": {},
   "source": [
    "#### 5. Create a 2D NumPy array with shape (3, 3) and fill it with random numbers. Copy a slice of the array consisting of the first 2 rows and the first 2 columns.\n"
   ]
  },
  {
   "cell_type": "code",
   "execution_count": 14,
   "id": "f51ca068",
   "metadata": {},
   "outputs": [
    {
     "data": {
      "text/plain": [
       "array([[0.28443733, 0.9975041 , 0.60632495],\n",
       "       [0.77578965, 0.92009568, 0.00311121],\n",
       "       [0.65323454, 0.68304572, 0.11625367]])"
      ]
     },
     "execution_count": 14,
     "metadata": {},
     "output_type": "execute_result"
    }
   ],
   "source": [
    "arr=np.random.rand(3,3)\n",
    "arr"
   ]
  },
  {
   "cell_type": "code",
   "execution_count": 15,
   "id": "eeaa301a",
   "metadata": {},
   "outputs": [
    {
     "data": {
      "text/plain": [
       "array([[0.28443733, 0.9975041 ],\n",
       "       [0.77578965, 0.92009568]])"
      ]
     },
     "execution_count": 15,
     "metadata": {},
     "output_type": "execute_result"
    }
   ],
   "source": [
    "arr[:2,:2]"
   ]
  },
  {
   "cell_type": "markdown",
   "id": "5d5b5f27",
   "metadata": {},
   "source": [
    "#### 6. Create a 1D NumPy array with the integers from 0 to 8. Reshape the array into a 2D array with shape (3, 3)."
   ]
  },
  {
   "cell_type": "code",
   "execution_count": 38,
   "id": "cb25baeb",
   "metadata": {},
   "outputs": [
    {
     "data": {
      "text/plain": [
       "array([[0, 1, 2],\n",
       "       [3, 4, 5],\n",
       "       [6, 7, 8]])"
      ]
     },
     "execution_count": 38,
     "metadata": {},
     "output_type": "execute_result"
    }
   ],
   "source": [
    "arr=np.arange(0,9).reshape((3,3))\n",
    "arr"
   ]
  },
  {
   "cell_type": "markdown",
   "id": "03884f80",
   "metadata": {},
   "source": [
    "#### 7. Create a 2D NumPy array with shape (4, 4) and fill it with random numbers. Reshape the array into a 1D array."
   ]
  },
  {
   "cell_type": "code",
   "execution_count": 55,
   "id": "b957309e",
   "metadata": {},
   "outputs": [
    {
     "name": "stdout",
     "output_type": "stream",
     "text": [
      "original array: [[0.58916716 0.1780314  0.43883646 0.62153094]\n",
      " [0.10118185 0.72674249 0.09637065 0.71682335]\n",
      " [0.79561381 0.97596871 0.43849254 0.38370948]\n",
      " [0.56993066 0.12164688 0.90304083 0.8883124 ]]\n",
      "\n",
      "reshaped array: [0.58916716 0.1780314  0.43883646 0.62153094 0.10118185 0.72674249\n",
      " 0.09637065 0.71682335 0.79561381 0.97596871 0.43849254 0.38370948\n",
      " 0.56993066 0.12164688 0.90304083 0.8883124 ]\n"
     ]
    }
   ],
   "source": [
    "arr=np.random.rand(4,4)\n",
    "print('original array:', arr)\n",
    "\n",
    "print('\\nreshaped array:',arr.flatten())"
   ]
  },
  {
   "cell_type": "markdown",
   "id": "81e132a8",
   "metadata": {},
   "source": [
    "#### 8. Create two 1D NumPy arrays with the integers from 0 to 4. Concatenate the two arrays into a single 1D array.\n"
   ]
  },
  {
   "cell_type": "code",
   "execution_count": 65,
   "id": "25298996",
   "metadata": {},
   "outputs": [
    {
     "name": "stdout",
     "output_type": "stream",
     "text": [
      "array 1: [0 1 2 3 4]\n",
      "\n",
      "array 2: [0 1 2 3 4]\n",
      "The concatenated array:  [0 1 2 3 4 0 1 2 3 4]\n"
     ]
    }
   ],
   "source": [
    "arr1=np.arange(0,5)\n",
    "print('array 1:',arr1)\n",
    "arr2=np.arange(0,5)\n",
    "print('\\narray 2:',arr2)   \n",
    "print('The concatenated array: ',np.concatenate([arr1,arr2]))\n",
    "\n"
   ]
  },
  {
   "cell_type": "markdown",
   "id": "66cb4af9",
   "metadata": {},
   "source": [
    "#### 9. Create two 2D NumPy arrays with shapes (2, 2) and (2, 3). Concatenate the two arrays horizontally."
   ]
  },
  {
   "cell_type": "code",
   "execution_count": 75,
   "id": "421ce83a",
   "metadata": {},
   "outputs": [
    {
     "name": "stdout",
     "output_type": "stream",
     "text": [
      "array 1:\n",
      " [[0.12285146 0.06888725]\n",
      " [0.32554743 0.47028748]]\n",
      "\n",
      "array 2:\n",
      " [[0.09576736 0.00171285 0.08357784]\n",
      " [0.09976082 0.19284866 0.46613728]]\n",
      "\n",
      "The concatenated array: \n",
      " [[0.12285146 0.06888725 0.09576736 0.00171285 0.08357784]\n",
      " [0.32554743 0.47028748 0.09976082 0.19284866 0.46613728]]\n"
     ]
    }
   ],
   "source": [
    "arr1=np.random.rand(2,2)\n",
    "print('array 1:\\n', arr1)\n",
    "\n",
    "arr2=np.random.rand(2,3)\n",
    "print('\\narray 2:\\n', arr2)\n",
    "\n",
    "print('\\nThe concatenated array: \\n',np.hstack([arr1,arr2]))  #hstack() function to concatenate the two arrays horizontally. \n"
   ]
  },
  {
   "cell_type": "markdown",
   "id": "198f2810",
   "metadata": {},
   "source": [
    "#### 10. Create two 2D NumPy arrays with shapes (2, 2) and (3, 2). Concatenate the two arrays vertically.\n"
   ]
  },
  {
   "cell_type": "code",
   "execution_count": 78,
   "id": "6d4ed2f4",
   "metadata": {},
   "outputs": [
    {
     "name": "stdout",
     "output_type": "stream",
     "text": [
      "array 1:\n",
      " [[0.63236931 0.46588268]\n",
      " [0.84868958 0.60510799]]\n",
      "\n",
      "array 2:\n",
      " [[0.98837046 0.17179563]\n",
      " [0.86042658 0.8598154 ]\n",
      " [0.4117696  0.37757446]]\n",
      "\n",
      "The concatenated array: \n",
      " [[0.63236931 0.46588268]\n",
      " [0.84868958 0.60510799]\n",
      " [0.98837046 0.17179563]\n",
      " [0.86042658 0.8598154 ]\n",
      " [0.4117696  0.37757446]]\n"
     ]
    }
   ],
   "source": [
    "arr1=np.random.rand(2,2)\n",
    "print('array 1:\\n', arr1)\n",
    "\n",
    "arr2=np.random.rand(3,2)\n",
    "print('\\narray 2:\\n', arr2)\n",
    "\n",
    "print('\\nThe concatenated array: \\n',np.vstack([arr1,arr2]))  #vstack() function to concatenate the two arrays vertically. "
   ]
  },
  {
   "cell_type": "markdown",
   "id": "b5631f18",
   "metadata": {},
   "source": [
    "#### 11. Create a 2D NumPy array with shape (4, 4) and fill it with random numbers. Split the array into two equal horizontal halves.\n"
   ]
  },
  {
   "cell_type": "code",
   "execution_count": 88,
   "id": "443f9eee",
   "metadata": {},
   "outputs": [
    {
     "name": "stdout",
     "output_type": "stream",
     "text": [
      "The original array :\n",
      " [[0.76869082 0.34333345 0.33229252 0.30578808]\n",
      " [0.73857658 0.52036545 0.03027007 0.85984353]\n",
      " [0.51377728 0.0826623  0.38045116 0.46159507]\n",
      " [0.92939926 0.56524012 0.04106212 0.50697463]]\n",
      "\n",
      "The splitted array :\n",
      "\n",
      "The upper array\n",
      " [[0.76869082 0.34333345 0.33229252 0.30578808]\n",
      " [0.73857658 0.52036545 0.03027007 0.85984353]]\n",
      "\n",
      "The lower array\n",
      " [[0.51377728 0.0826623  0.38045116 0.46159507]\n",
      " [0.92939926 0.56524012 0.04106212 0.50697463]]\n"
     ]
    }
   ],
   "source": [
    "array =np.random.rand(4,4)\n",
    "print('The original array :\\n', array)\n",
    "\n",
    "upper,lower=np.vsplit(array,[2])\n",
    "print('\\nThe splitted array :')\n",
    "print('\\nThe upper array\\n',upper)\n",
    "print('\\nThe lower array\\n',lower)\n"
   ]
  },
  {
   "cell_type": "markdown",
   "id": "7f9250d2",
   "metadata": {},
   "source": [
    "#### 12. Create a 2D NumPy array with shape (4, 4) and fill it with random numbers. Split the array into two equal vertical halves."
   ]
  },
  {
   "cell_type": "code",
   "execution_count": 89,
   "id": "4ce235e0",
   "metadata": {},
   "outputs": [
    {
     "name": "stdout",
     "output_type": "stream",
     "text": [
      "The original array :\n",
      " [[0.60796204 0.57434318 0.34006201 0.82832099]\n",
      " [0.63645827 0.52733641 0.83420678 0.97091653]\n",
      " [0.689332   0.00362323 0.42727401 0.72344068]\n",
      " [0.32846396 0.69882146 0.17639846 0.40644522]]\n",
      "\n",
      "The splitted array :\n",
      "\n",
      "The upper array\n",
      " [[0.60796204 0.57434318]\n",
      " [0.63645827 0.52733641]\n",
      " [0.689332   0.00362323]\n",
      " [0.32846396 0.69882146]]\n",
      "\n",
      "The lower array\n",
      " [[0.34006201 0.82832099]\n",
      " [0.83420678 0.97091653]\n",
      " [0.42727401 0.72344068]\n",
      " [0.17639846 0.40644522]]\n"
     ]
    }
   ],
   "source": [
    "array =np.random.rand(4,4)\n",
    "print('The original array :\\n', array)\n",
    "\n",
    "upper,lower=np.hsplit(array,[2])\n",
    "print('\\nThe splitted array :')\n",
    "print('\\nThe upper array\\n',upper)\n",
    "print('\\nThe lower array\\n',lower)"
   ]
  },
  {
   "cell_type": "markdown",
   "id": "b3042c31",
   "metadata": {},
   "source": [
    "#### 13. Create a 2D NumPy array with shape (4, 4) and fill it with random numbers. Split the array into four equal subarrays."
   ]
  },
  {
   "cell_type": "code",
   "execution_count": 102,
   "id": "c3e61f69",
   "metadata": {},
   "outputs": [
    {
     "name": "stdout",
     "output_type": "stream",
     "text": [
      "The original array :\n",
      " [[0.08581389 0.34806697 0.70129404 0.96731684]\n",
      " [0.05375226 0.95753066 0.57772125 0.22088043]\n",
      " [0.94685545 0.87226304 0.72750362 0.76072896]\n",
      " [0.48198819 0.97539752 0.5636817  0.74101867]]\n",
      "\n",
      "The splitted array :\n",
      "\n",
      "The first subarray\n",
      " [[0.08581389 0.34806697 0.70129404 0.96731684]]\n",
      "\n",
      "The second subarray\n",
      " [[0.05375226 0.95753066 0.57772125 0.22088043]]\n",
      "\n",
      "The third subarray\n",
      " [[0.94685545 0.87226304 0.72750362 0.76072896]]\n",
      "\n",
      "The fourth subarray\n",
      " [[0.48198819 0.97539752 0.5636817  0.74101867]]\n"
     ]
    }
   ],
   "source": [
    "array =np.random.rand(4,4)\n",
    "print('The original array :\\n', array)\n",
    "\n",
    "a,b,c,d=np.split(array,4,axis=0) # split horizontally\n",
    "#a,b,c,d=np.split(array,4,axis=1) # split vertically\n",
    "print('\\nThe splitted array :')\n",
    "print('\\nThe first subarray\\n',a)\n",
    "print('\\nThe second subarray\\n',b)\n",
    "print('\\nThe third subarray\\n',c)\n",
    "print('\\nThe fourth subarray\\n',d)\n"
   ]
  },
  {
   "cell_type": "markdown",
   "id": "d6accfbc",
   "metadata": {},
   "source": [
    "#### 14. Create a 1D NumPy array with the integers from 0 to 9. Set all odd elements of the array to zero using array indexing."
   ]
  },
  {
   "cell_type": "code",
   "execution_count": 112,
   "id": "062ba673",
   "metadata": {},
   "outputs": [
    {
     "name": "stdout",
     "output_type": "stream",
     "text": [
      "The oroginal array\n",
      " [0 1 2 3 4 5 6 7 8 9]\n",
      "\n",
      "The edited array is:\n",
      " [0 0 2 0 4 0 6 0 8 0]\n"
     ]
    }
   ],
   "source": [
    "array=np.arange(0,10)\n",
    "print('The oroginal array\\n',array)\n",
    "\n",
    "array[array % 2 == 1] = 0\n",
    "print('\\nThe edited array is:\\n',array)"
   ]
  },
  {
   "cell_type": "markdown",
   "id": "890f4480",
   "metadata": {},
   "source": [
    "#### 15. Create a 2D NumPy array with shape (3, 3) and fill it with random numbers. Set all elements of the first row to zero using array indexing."
   ]
  },
  {
   "cell_type": "code",
   "execution_count": 117,
   "id": "a74c55ae",
   "metadata": {},
   "outputs": [
    {
     "name": "stdout",
     "output_type": "stream",
     "text": [
      "The oroginal array\n",
      " [[2 1 8]\n",
      " [7 6 3]\n",
      " [5 7 4]]\n",
      "\n",
      "The edited array is:\n",
      " [[0 0 0]\n",
      " [7 6 3]\n",
      " [5 7 4]]\n"
     ]
    }
   ],
   "source": [
    "array = np.random.randint(0, 10, (3, 3))\n",
    "print('The oroginal array\\n',array)\n",
    "array[0] = 0\n",
    "print('\\nThe edited array is:\\n',array)"
   ]
  },
  {
   "cell_type": "markdown",
   "id": "5f6117e9",
   "metadata": {},
   "source": [
    "#### 16. Create a 2D NumPy array with shape (3, 3) and fill it with random numbers. Set all elements of the last column to zero using array indexing."
   ]
  },
  {
   "cell_type": "code",
   "execution_count": 119,
   "id": "00cde934",
   "metadata": {},
   "outputs": [
    {
     "name": "stdout",
     "output_type": "stream",
     "text": [
      "The oroginal array\n",
      " [[8 7 2]\n",
      " [2 1 8]\n",
      " [6 9 3]]\n",
      "\n",
      "The edited array is:\n",
      " [[8 7 2]\n",
      " [2 1 8]\n",
      " [0 0 0]]\n"
     ]
    }
   ],
   "source": [
    "array = np.random.randint(0, 10, (3, 3))\n",
    "print('The oroginal array\\n',array)\n",
    "array[2] = 0\n",
    "print('\\nThe edited array is:\\n',array)"
   ]
  },
  {
   "cell_type": "markdown",
   "id": "144a0c43",
   "metadata": {},
   "source": [
    "#### 17. Create a 2D NumPy array with shape (3, 3) and fill it with random numbers. Set all elements in the subarray consisting of the first 2 rows and the last 2 columns to zero using array indexing."
   ]
  },
  {
   "cell_type": "code",
   "execution_count": 149,
   "id": "508bea71",
   "metadata": {},
   "outputs": [
    {
     "name": "stdout",
     "output_type": "stream",
     "text": [
      "The oroginal array\n",
      " [[6 0 8]\n",
      " [7 1 9]\n",
      " [6 3 1]]\n",
      "The subarray\n",
      " [[6 0 0]\n",
      " [7 0 0]\n",
      " [6 3 1]]\n"
     ]
    }
   ],
   "source": [
    "array = np.random.randint(0, 10, (3, 3))\n",
    "print('The oroginal array\\n',array)\n",
    "\n",
    "array[:2, 1:] = 0\n",
    "print('The subarray\\n',array)\n",
    "\n"
   ]
  },
  {
   "cell_type": "markdown",
   "id": "d44efac6",
   "metadata": {},
   "source": [
    "#### 18. Create a 1D NumPy array with the integers from 0 to 9. Copy the entire array and modify the copy so that all elements are multiplied by 2."
   ]
  },
  {
   "cell_type": "code",
   "execution_count": 124,
   "id": "f16af8c0",
   "metadata": {},
   "outputs": [
    {
     "name": "stdout",
     "output_type": "stream",
     "text": [
      "The oroginal array:\n",
      " [0 1 2 3 4 5 6 7 8 9]\n",
      "\n",
      "The copy of the array:\n",
      " [0 1 2 3 4 5 6 7 8 9]\n",
      "\n",
      "The copy of the array after multiplied by 2:\n",
      " [ 0  2  4  6  8 10 12 14 16 18]\n"
     ]
    }
   ],
   "source": [
    "array=np.arange(0,10)\n",
    "print('The oroginal array:\\n',array)\n",
    "\n",
    "copy=array.copy()\n",
    "print('\\nThe copy of the array:\\n',copy)\n",
    "\n",
    "copy= copy*2\n",
    "print('\\nThe copy of the array after multiplied by 2:\\n',copy)\n"
   ]
  },
  {
   "cell_type": "markdown",
   "id": "037dabc9",
   "metadata": {},
   "source": [
    "#### 19. Create a 2D NumPy array with shape (3, 3) and fill it with random numbers. Copy the entire array and modify the copy so that all elements are added by 1.\n"
   ]
  },
  {
   "cell_type": "code",
   "execution_count": 126,
   "id": "28f63f73",
   "metadata": {},
   "outputs": [
    {
     "name": "stdout",
     "output_type": "stream",
     "text": [
      "The oroginal array:\n",
      " [[0 1 6]\n",
      " [3 6 1]\n",
      " [6 4 3]]\n",
      "\n",
      "The copy of the array:\n",
      " [[0 1 6]\n",
      " [3 6 1]\n",
      " [6 4 3]]\n",
      "\n",
      "The copy of the array after added by 1:\n",
      " [[1 2 7]\n",
      " [4 7 2]\n",
      " [7 5 4]]\n"
     ]
    }
   ],
   "source": [
    "array = np.random.randint(0, 10, (3, 3))\n",
    "print('The oroginal array:\\n',array)\n",
    "\n",
    "copy=array.copy()\n",
    "print('\\nThe copy of the array:\\n',copy)\n",
    "\n",
    "copy= copy+1\n",
    "print('\\nThe copy of the array after added by 1:\\n',copy)"
   ]
  },
  {
   "cell_type": "markdown",
   "id": "3e8e46a8",
   "metadata": {},
   "source": [
    "#### 20. Create a 2D NumPy array with shape (3, 3) and fill it with random numbers. Copy a slice of the array consisting of the first 2 rows and the first 2 columns, and modify the copy so that all"
   ]
  },
  {
   "cell_type": "code",
   "execution_count": 133,
   "id": "0372018f",
   "metadata": {},
   "outputs": [
    {
     "name": "stdout",
     "output_type": "stream",
     "text": [
      "The oroginal array:\n",
      " [[1 3 3]\n",
      " [9 0 7]\n",
      " [6 3 1]]\n",
      "\n",
      "The slice of array:\n",
      " [[1 3]\n",
      " [9 0]]\n"
     ]
    }
   ],
   "source": [
    "array=np.random.randint(0,10,(3,3))\n",
    "print('The oroginal array:\\n',array)\n",
    "\n",
    "slice = array[:2, :2]\n",
    "print('\\nThe slice of array:\\n',slice)\n"
   ]
  },
  {
   "cell_type": "code",
   "execution_count": null,
   "id": "c2e1fa74",
   "metadata": {},
   "outputs": [],
   "source": []
  }
 ],
 "metadata": {
  "kernelspec": {
   "display_name": "Python 3 (ipykernel)",
   "language": "python",
   "name": "python3"
  },
  "language_info": {
   "codemirror_mode": {
    "name": "ipython",
    "version": 3
   },
   "file_extension": ".py",
   "mimetype": "text/x-python",
   "name": "python",
   "nbconvert_exporter": "python",
   "pygments_lexer": "ipython3",
   "version": "3.9.13"
  }
 },
 "nbformat": 4,
 "nbformat_minor": 5
}
