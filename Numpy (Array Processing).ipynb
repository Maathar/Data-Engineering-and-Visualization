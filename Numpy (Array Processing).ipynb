{
 "cells": [
  {
   "cell_type": "markdown",
   "id": "1a8dbe88",
   "metadata": {},
   "source": [
    "# Data Engineering \n",
    "Numpy (Array Processing)\n"
   ]
  },
  {
   "cell_type": "markdown",
   "id": "f1159c1c",
   "metadata": {},
   "source": [
    "#### 1. Create a NumPy array with 10 random integers between 0 and 100."
   ]
  },
  {
   "cell_type": "code",
   "execution_count": 1,
   "id": "48fcb1d0",
   "metadata": {},
   "outputs": [],
   "source": [
    "import numpy as np"
   ]
  },
  {
   "cell_type": "code",
   "execution_count": 3,
   "id": "d66a1877",
   "metadata": {},
   "outputs": [
    {
     "name": "stdout",
     "output_type": "stream",
     "text": [
      "The array: [55  8 50 90 94 21 96 76 95 35]\n"
     ]
    }
   ],
   "source": [
    "arr=np.random.randint(0,101,10)\n",
    "print('The array:',arr)"
   ]
  },
  {
   "cell_type": "markdown",
   "id": "48bfda63",
   "metadata": {},
   "source": [
    "#### 2. Use the np.where() function to create a new array with the same shape as the previous one, where values less than 50 are replaced with -1 and values greater than or equal to 50 are replaced with 1.\n"
   ]
  },
  {
   "cell_type": "code",
   "execution_count": 8,
   "id": "ffd5a35f",
   "metadata": {},
   "outputs": [
    {
     "name": "stdout",
     "output_type": "stream",
     "text": [
      "The array: [94 21 32 39 67 44  9 93 91 77]\n",
      "new array: [ 1 -1 -1 -1  1 -1 -1  1  1  1]\n"
     ]
    }
   ],
   "source": [
    "arr=np.random.randint(0,101,10)\n",
    "print('The array:',arr)\n",
    "print('new array:',np.where(50>arr,-1,1))\n"
   ]
  },
  {
   "cell_type": "markdown",
   "id": "64f9eef5",
   "metadata": {},
   "source": [
    "#### 3. Calculate the mean, median, and standard deviation of the original array."
   ]
  },
  {
   "cell_type": "code",
   "execution_count": 12,
   "id": "eed67f3e",
   "metadata": {},
   "outputs": [
    {
     "name": "stdout",
     "output_type": "stream",
     "text": [
      "The array:\n",
      " [26 80  2 72 77 13 41 58  1  8]\n",
      "\n",
      "The mean of the array:\n",
      " 37.8\n",
      "\n",
      "The median of the array:\n",
      " 33.5\n",
      "\n",
      "The standard deviation of the array:\n",
      " 30.304455118018538\n"
     ]
    }
   ],
   "source": [
    "arr=np.random.randint(0,101,10)\n",
    "print('The array:\\n',arr)\n",
    "m=np.mean(arr)\n",
    "print('\\nThe mean of the array:\\n',m)\n",
    "med=np.median(arr)\n",
    "print('\\nThe median of the array:\\n',med)\n",
    "s=np.std(arr)\n",
    "print('\\nThe standard deviation of the array:\\n',s)"
   ]
  },
  {
   "cell_type": "markdown",
   "id": "f88ac48c",
   "metadata": {},
   "source": [
    "#### 4. Create a boolean array that is True where the values in the original array are even, and False otherwise."
   ]
  },
  {
   "cell_type": "code",
   "execution_count": 61,
   "id": "14697e99",
   "metadata": {},
   "outputs": [
    {
     "name": "stdout",
     "output_type": "stream",
     "text": [
      "The original array: [67 88  6 69 19 11 18  4 49 19]\n",
      "The boolean array: [False  True  True False False False  True  True False False]\n"
     ]
    }
   ],
   "source": [
    "arr=np.random.randint(0,101,10)\n",
    "print('The original array:',arr)\n",
    "print('The boolean array:',np.where(arr%2==0,True,False))\n"
   ]
  },
  {
   "cell_type": "markdown",
   "id": "dff67ed9",
   "metadata": {},
   "source": [
    "#### 5. Sort the original array in ascending order."
   ]
  },
  {
   "cell_type": "code",
   "execution_count": 62,
   "id": "4c2aca49",
   "metadata": {},
   "outputs": [
    {
     "name": "stdout",
     "output_type": "stream",
     "text": [
      "The original array:\n",
      " [72 12 54 31 28 32 15 97 61 34]\n",
      "\n",
      "The array in ascending order:\n",
      " [12 15 28 31 32 34 54 61 72 97]\n"
     ]
    }
   ],
   "source": [
    "arr=np.random.randint(0,101,10)\n",
    "print('The original array:\\n',arr)\n",
    "\n",
    "array_sort=np.sort(arr)\n",
    "print('\\nThe array in ascending order:\\n',array_sort)"
   ]
  },
  {
   "cell_type": "markdown",
   "id": "c9edd958",
   "metadata": {},
   "source": [
    "#### 6. Find the unique values in the original array."
   ]
  },
  {
   "cell_type": "code",
   "execution_count": 24,
   "id": "b13af8de",
   "metadata": {},
   "outputs": [
    {
     "name": "stdout",
     "output_type": "stream",
     "text": [
      "The original array\n",
      " ['Maathar' 'Mansoor' 'Ali' 'Maathar' 'Abdullah' 'Mohammed' 'Ali']\n",
      "['Abdullah' 'Ali' 'Maathar' 'Mansoor' 'Mohammed']\n"
     ]
    }
   ],
   "source": [
    "array=np.array(['Maathar','Mansoor','Ali','Maathar','Abdullah','Mohammed','Ali'])\n",
    "print('The original array\\n',array)\n",
    "\n",
    "array_unique=np.unique(array)\n",
    "print(array_unique)"
   ]
  },
  {
   "cell_type": "markdown",
   "id": "c606b638",
   "metadata": {},
   "source": [
    "#### 7. Use the np.in1d() function to create a boolean array indicating which elements of the original array are also present in a new array with 5 random integers between 0 and 100."
   ]
  },
  {
   "cell_type": "code",
   "execution_count": 51,
   "id": "347d1500",
   "metadata": {},
   "outputs": [
    {
     "name": "stdout",
     "output_type": "stream",
     "text": [
      "The original array:\n",
      " [52 64 28 97  2 15 64 83 87 76]\n",
      "\n",
      "The new array:\n",
      " [20 54 78  7 71]\n",
      "\n",
      " The boolean array:\n",
      " [False False False  True False]\n"
     ]
    }
   ],
   "source": [
    "arr=np.random.randint(0,101,10)\n",
    "print('The original array:\\n',arr)\n",
    "\n",
    "array=np.random.randint(0,101,5)\n",
    "print('\\nThe new array:\\n',array)\n",
    "\n",
    "array_boolean=np.in1d(array,a)\n",
    "print('\\n The boolean array:\\n',array_boolean)\n"
   ]
  },
  {
   "cell_type": "markdown",
   "id": "1947561e",
   "metadata": {},
   "source": [
    "#### 8. Save the original array to a text file named \"my_array.txt\" using the np.savetxt() function."
   ]
  },
  {
   "cell_type": "code",
   "execution_count": 59,
   "id": "5c39815f",
   "metadata": {},
   "outputs": [
    {
     "name": "stdout",
     "output_type": "stream",
     "text": [
      "The original array:\n",
      " [ 0 23 90 44 66 32 86 45 77 31]\n",
      "\n",
      "The loaded file:\n",
      " [ 0. 23. 90. 44. 66. 32. 86. 45. 77. 31.]\n"
     ]
    }
   ],
   "source": [
    "arr=np.random.randint(0,101,10)\n",
    "print('The original array:\\n',arr)\n",
    "\n",
    "#save the text file\n",
    "a=np.savetxt('my_array.txt',arr,delimiter=',')\n",
    "\n",
    "#load the text file\n",
    "ar = np.loadtxt('my_array.txt',delimiter = ',')\n",
    "print('\\nThe loaded file:\\n',ar)"
   ]
  }
 ],
 "metadata": {
  "kernelspec": {
   "display_name": "Python 3 (ipykernel)",
   "language": "python",
   "name": "python3"
  },
  "language_info": {
   "codemirror_mode": {
    "name": "ipython",
    "version": 3
   },
   "file_extension": ".py",
   "mimetype": "text/x-python",
   "name": "python",
   "nbconvert_exporter": "python",
   "pygments_lexer": "ipython3",
   "version": "3.9.13"
  }
 },
 "nbformat": 4,
 "nbformat_minor": 5
}
