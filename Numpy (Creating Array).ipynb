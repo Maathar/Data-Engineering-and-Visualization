{
 "cells": [
  {
   "cell_type": "markdown",
   "id": "c73008e4",
   "metadata": {},
   "source": [
    "# Data Engineering \n",
    "### Numpy (Creating Array)\n"
   ]
  },
  {
   "cell_type": "markdown",
   "id": "056be135",
   "metadata": {},
   "source": [
    "#### 1- create a 1D NumPy array with the integers from 0 to 9"
   ]
  },
  {
   "cell_type": "code",
   "execution_count": 1,
   "id": "69a3d37f",
   "metadata": {},
   "outputs": [],
   "source": [
    "import numpy as np"
   ]
  },
  {
   "cell_type": "code",
   "execution_count": 32,
   "id": "569f645e",
   "metadata": {},
   "outputs": [
    {
     "name": "stdout",
     "output_type": "stream",
     "text": [
      "[0 1 2 3 4 5 6 7 8 9]\n"
     ]
    }
   ],
   "source": [
    "l=np.arange(0,10)\n",
    "array1=np.array(l)\n",
    "print(array1)\n"
   ]
  },
  {
   "cell_type": "markdown",
   "id": "ca5db872",
   "metadata": {},
   "source": [
    "#### 2- create a 2D NumPy array with the shape (3,3) and fill it with zeros."
   ]
  },
  {
   "cell_type": "code",
   "execution_count": 14,
   "id": "199e1f67",
   "metadata": {},
   "outputs": [
    {
     "data": {
      "text/plain": [
       "array([[0, 0, 0],\n",
       "       [0, 0, 0],\n",
       "       [0, 0, 0]])"
      ]
     },
     "execution_count": 14,
     "metadata": {},
     "output_type": "execute_result"
    }
   ],
   "source": [
    "np.zeros([3,3],'int')"
   ]
  },
  {
   "cell_type": "markdown",
   "id": "55288708",
   "metadata": {},
   "source": [
    " #### 3- create a 3D NumPy array with the shape (2,3,4) and fill it with ones.\n"
   ]
  },
  {
   "cell_type": "code",
   "execution_count": 33,
   "id": "9a65ee27",
   "metadata": {},
   "outputs": [
    {
     "data": {
      "text/plain": [
       "array([[[1, 1, 1, 1],\n",
       "        [1, 1, 1, 1],\n",
       "        [1, 1, 1, 1]],\n",
       "\n",
       "       [[1, 1, 1, 1],\n",
       "        [1, 1, 1, 1],\n",
       "        [1, 1, 1, 1]]])"
      ]
     },
     "execution_count": 33,
     "metadata": {},
     "output_type": "execute_result"
    }
   ],
   "source": [
    "np.ones([2,3,4],'int')"
   ]
  },
  {
   "cell_type": "markdown",
   "id": "748c08e7",
   "metadata": {},
   "source": [
    " #### 4- create a NumPy array with the 10 random integers between 0 and 100.\n"
   ]
  },
  {
   "cell_type": "code",
   "execution_count": 29,
   "id": "6fbb7f04",
   "metadata": {},
   "outputs": [
    {
     "name": "stdout",
     "output_type": "stream",
     "text": [
      "[36 17 97 76  8 40 54 81 42 93]\n"
     ]
    }
   ],
   "source": [
    "a=np.random.randint(0,101,10)  #(low,high,size)\n",
    "print(a)"
   ]
  },
  {
   "cell_type": "markdown",
   "id": "d50dfb63",
   "metadata": {},
   "source": [
    " #### 5- create a NumPy array with the 10 random float between 0 and 100.\n"
   ]
  },
  {
   "cell_type": "code",
   "execution_count": 40,
   "id": "90b59432",
   "metadata": {},
   "outputs": [
    {
     "name": "stdout",
     "output_type": "stream",
     "text": [
      "[0.34699535 0.70465836 0.61048198 0.6998526  0.03982693 0.58700565\n",
      " 0.28747905 0.91850127 0.13387071 0.22503384]\n"
     ]
    }
   ],
   "source": [
    "array=np.random.rand(10)\n",
    "print(array)"
   ]
  },
  {
   "cell_type": "markdown",
   "id": "88137340",
   "metadata": {},
   "source": [
    "#### 6. Create a NumPy array with 5 equally spaced values between 0 and 1."
   ]
  },
  {
   "cell_type": "code",
   "execution_count": 45,
   "id": "6bf55e73",
   "metadata": {},
   "outputs": [
    {
     "name": "stdout",
     "output_type": "stream",
     "text": [
      "[0.   0.25 0.5  0.75 1.  ]\n"
     ]
    }
   ],
   "source": [
    "array=np.linspace(0,1,5)\n",
    "print(array)"
   ]
  },
  {
   "cell_type": "markdown",
   "id": "15a53413",
   "metadata": {},
   "source": [
    "#### 7. Create a NumPy array with 5 equally spaced values between 0 and 10."
   ]
  },
  {
   "cell_type": "code",
   "execution_count": 47,
   "id": "d2208d15",
   "metadata": {},
   "outputs": [
    {
     "name": "stdout",
     "output_type": "stream",
     "text": [
      "[ 0.   2.5  5.   7.5 10. ]\n"
     ]
    }
   ],
   "source": [
    "array=np.linspace(0,10,5)\n",
    "print(array)"
   ]
  },
  {
   "cell_type": "markdown",
   "id": "1696840b",
   "metadata": {},
   "source": [
    "#### 8. Create a NumPy array with 5 equally spaced values between -1 and 1."
   ]
  },
  {
   "cell_type": "code",
   "execution_count": 50,
   "id": "d34f0c9c",
   "metadata": {},
   "outputs": [
    {
     "name": "stdout",
     "output_type": "stream",
     "text": [
      "[-1.  -0.5  0.   0.5  1. ]\n"
     ]
    }
   ],
   "source": [
    "array=np.linspace(-1,1,5)\n",
    "print(array)"
   ]
  },
  {
   "cell_type": "markdown",
   "id": "330bf96d",
   "metadata": {},
   "source": [
    "#### 9. Create a NumPy array with the sine values of angles between 0 and 2π"
   ]
  },
  {
   "cell_type": "code",
   "execution_count": 56,
   "id": "6aaee273",
   "metadata": {},
   "outputs": [
    {
     "name": "stdout",
     "output_type": "stream",
     "text": [
      "[ 0.00000000e+00  6.34239197e-02  1.26592454e-01  1.89251244e-01\n",
      "  2.51147987e-01  3.12033446e-01  3.71662456e-01  4.29794912e-01\n",
      "  4.86196736e-01  5.40640817e-01  5.92907929e-01  6.42787610e-01\n",
      "  6.90079011e-01  7.34591709e-01  7.76146464e-01  8.14575952e-01\n",
      "  8.49725430e-01  8.81453363e-01  9.09631995e-01  9.34147860e-01\n",
      "  9.54902241e-01  9.71811568e-01  9.84807753e-01  9.93838464e-01\n",
      "  9.98867339e-01  9.99874128e-01  9.96854776e-01  9.89821442e-01\n",
      "  9.78802446e-01  9.63842159e-01  9.45000819e-01  9.22354294e-01\n",
      "  8.95993774e-01  8.66025404e-01  8.32569855e-01  7.95761841e-01\n",
      "  7.55749574e-01  7.12694171e-01  6.66769001e-01  6.18158986e-01\n",
      "  5.67059864e-01  5.13677392e-01  4.58226522e-01  4.00930535e-01\n",
      "  3.42020143e-01  2.81732557e-01  2.20310533e-01  1.58001396e-01\n",
      "  9.50560433e-02  3.17279335e-02 -3.17279335e-02 -9.50560433e-02\n",
      " -1.58001396e-01 -2.20310533e-01 -2.81732557e-01 -3.42020143e-01\n",
      " -4.00930535e-01 -4.58226522e-01 -5.13677392e-01 -5.67059864e-01\n",
      " -6.18158986e-01 -6.66769001e-01 -7.12694171e-01 -7.55749574e-01\n",
      " -7.95761841e-01 -8.32569855e-01 -8.66025404e-01 -8.95993774e-01\n",
      " -9.22354294e-01 -9.45000819e-01 -9.63842159e-01 -9.78802446e-01\n",
      " -9.89821442e-01 -9.96854776e-01 -9.99874128e-01 -9.98867339e-01\n",
      " -9.93838464e-01 -9.84807753e-01 -9.71811568e-01 -9.54902241e-01\n",
      " -9.34147860e-01 -9.09631995e-01 -8.81453363e-01 -8.49725430e-01\n",
      " -8.14575952e-01 -7.76146464e-01 -7.34591709e-01 -6.90079011e-01\n",
      " -6.42787610e-01 -5.92907929e-01 -5.40640817e-01 -4.86196736e-01\n",
      " -4.29794912e-01 -3.71662456e-01 -3.12033446e-01 -2.51147987e-01\n",
      " -1.89251244e-01 -1.26592454e-01 -6.34239197e-02 -2.44929360e-16]\n"
     ]
    }
   ],
   "source": [
    "angles = np.linspace(0, 2 * np.pi, 100)\n",
    "sine_values = np.sin(angles)\n",
    "print(sine_values)"
   ]
  },
  {
   "cell_type": "markdown",
   "id": "f2447c11",
   "metadata": {},
   "source": [
    "#### 10. Create a NumPy array with the cosine values of angles between 0 and π"
   ]
  },
  {
   "cell_type": "code",
   "execution_count": 57,
   "id": "d1150f1f",
   "metadata": {},
   "outputs": [
    {
     "name": "stdout",
     "output_type": "stream",
     "text": [
      "[ 1.          0.99949654  0.99798668  0.99547192  0.99195481  0.98743889\n",
      "  0.9819287   0.97542979  0.9679487   0.95949297  0.95007112  0.93969262\n",
      "  0.92836793  0.91610846  0.90292654  0.88883545  0.87384938  0.85798341\n",
      "  0.84125353  0.82367658  0.80527026  0.78605309  0.76604444  0.74526445\n",
      "  0.72373404  0.70147489  0.67850941  0.65486073  0.63055267  0.60560969\n",
      "  0.58005691  0.55392006  0.52722547  0.5         0.47227107  0.44406661\n",
      "  0.41541501  0.38634513  0.35688622  0.32706796  0.29692038  0.26647381\n",
      "  0.23575894  0.20480667  0.17364818  0.14231484  0.1108382   0.07924996\n",
      "  0.04758192  0.01586596 -0.01586596 -0.04758192 -0.07924996 -0.1108382\n",
      " -0.14231484 -0.17364818 -0.20480667 -0.23575894 -0.26647381 -0.29692038\n",
      " -0.32706796 -0.35688622 -0.38634513 -0.41541501 -0.44406661 -0.47227107\n",
      " -0.5        -0.52722547 -0.55392006 -0.58005691 -0.60560969 -0.63055267\n",
      " -0.65486073 -0.67850941 -0.70147489 -0.72373404 -0.74526445 -0.76604444\n",
      " -0.78605309 -0.80527026 -0.82367658 -0.84125353 -0.85798341 -0.87384938\n",
      " -0.88883545 -0.90292654 -0.91610846 -0.92836793 -0.93969262 -0.95007112\n",
      " -0.95949297 -0.9679487  -0.97542979 -0.9819287  -0.98743889 -0.99195481\n",
      " -0.99547192 -0.99798668 -0.99949654 -1.        ]\n"
     ]
    }
   ],
   "source": [
    "angles = np.linspace(0, np.pi, 100)\n",
    "\n",
    "cos_values = np.cos(angles)\n",
    "\n",
    "print(cos_values)"
   ]
  },
  {
   "cell_type": "code",
   "execution_count": null,
   "id": "7637e6db",
   "metadata": {},
   "outputs": [],
   "source": []
  }
 ],
 "metadata": {
  "kernelspec": {
   "display_name": "Python 3 (ipykernel)",
   "language": "python",
   "name": "python3"
  },
  "language_info": {
   "codemirror_mode": {
    "name": "ipython",
    "version": 3
   },
   "file_extension": ".py",
   "mimetype": "text/x-python",
   "name": "python",
   "nbconvert_exporter": "python",
   "pygments_lexer": "ipython3",
   "version": "3.9.13"
  }
 },
 "nbformat": 4,
 "nbformat_minor": 5
}
