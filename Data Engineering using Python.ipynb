{
 "cells": [
  {
   "cell_type": "markdown",
   "id": "c1065cea",
   "metadata": {},
   "source": [
    "# Data Engineering using Python"
   ]
  },
  {
   "cell_type": "markdown",
   "id": "bdd7d39f",
   "metadata": {},
   "source": [
    "### Pandas (Data Frames)\n"
   ]
  },
  {
   "cell_type": "markdown",
   "id": "6740b82a",
   "metadata": {},
   "source": [
    "### 1. Create a CSV file with the following data:\n",
    "#### Name, Age, Gender, Occupation\n",
    "#### Alice, 25, Female, Engineer\n",
    "#### Bob, 30, Male, Scientist\n",
    "#### Charlie, 35, Male, Artist\n",
    "#### Danielle, 40, Female, Teacher\n"
   ]
  },
  {
   "cell_type": "code",
   "execution_count": 130,
   "id": "6b90f49e",
   "metadata": {},
   "outputs": [],
   "source": [
    "import pandas as pd\n",
    "\n",
    "# Create a DataFrame\n",
    "data = pd.DataFrame({\n",
    "    \"Name\": [\"Alice\", \"Bob\", \"Charlie\", \"Danielle\"],\n",
    "    \"Age\": [25, 30, 35, 40],\n",
    "    \"Gender\": [\"Female\", \"Male\", \"Male\", \"Female\"],\n",
    "    \"Occupation\": [\"Engineer\", \"Scientist\", \"Artist\", \"Teacher\"] })\n",
    "\n",
    "# Save the DataFrame to a CSV file\n",
    "data.to_csv(\"data.csv\")"
   ]
  },
  {
   "cell_type": "markdown",
   "id": "5223e414",
   "metadata": {},
   "source": [
    "### 2. Read the CSV file into a DataFrame using pandas.\n"
   ]
  },
  {
   "cell_type": "code",
   "execution_count": 131,
   "id": "dbf09ff5",
   "metadata": {},
   "outputs": [
    {
     "data": {
      "text/html": [
       "<div>\n",
       "<style scoped>\n",
       "    .dataframe tbody tr th:only-of-type {\n",
       "        vertical-align: middle;\n",
       "    }\n",
       "\n",
       "    .dataframe tbody tr th {\n",
       "        vertical-align: top;\n",
       "    }\n",
       "\n",
       "    .dataframe thead th {\n",
       "        text-align: right;\n",
       "    }\n",
       "</style>\n",
       "<table border=\"1\" class=\"dataframe\">\n",
       "  <thead>\n",
       "    <tr style=\"text-align: right;\">\n",
       "      <th></th>\n",
       "      <th>Unnamed: 0</th>\n",
       "      <th>Name</th>\n",
       "      <th>Age</th>\n",
       "      <th>Gender</th>\n",
       "      <th>Occupation</th>\n",
       "    </tr>\n",
       "  </thead>\n",
       "  <tbody>\n",
       "    <tr>\n",
       "      <th>0</th>\n",
       "      <td>0</td>\n",
       "      <td>Alice</td>\n",
       "      <td>25</td>\n",
       "      <td>Female</td>\n",
       "      <td>Engineer</td>\n",
       "    </tr>\n",
       "    <tr>\n",
       "      <th>1</th>\n",
       "      <td>1</td>\n",
       "      <td>Bob</td>\n",
       "      <td>30</td>\n",
       "      <td>Male</td>\n",
       "      <td>Scientist</td>\n",
       "    </tr>\n",
       "    <tr>\n",
       "      <th>2</th>\n",
       "      <td>2</td>\n",
       "      <td>Charlie</td>\n",
       "      <td>35</td>\n",
       "      <td>Male</td>\n",
       "      <td>Artist</td>\n",
       "    </tr>\n",
       "    <tr>\n",
       "      <th>3</th>\n",
       "      <td>3</td>\n",
       "      <td>Danielle</td>\n",
       "      <td>40</td>\n",
       "      <td>Female</td>\n",
       "      <td>Teacher</td>\n",
       "    </tr>\n",
       "  </tbody>\n",
       "</table>\n",
       "</div>"
      ],
      "text/plain": [
       "   Unnamed: 0      Name  Age  Gender Occupation\n",
       "0           0     Alice   25  Female   Engineer\n",
       "1           1       Bob   30    Male  Scientist\n",
       "2           2   Charlie   35    Male     Artist\n",
       "3           3  Danielle   40  Female    Teacher"
      ]
     },
     "execution_count": 131,
     "metadata": {},
     "output_type": "execute_result"
    }
   ],
   "source": [
    "import pandas as pd\n",
    "# Read the CSV file into a DataFrame\n",
    "read_data = pd.read_csv(\"data.csv\")\n",
    "\n",
    "# Print the DataFrame\n",
    "read_data"
   ]
  },
  {
   "cell_type": "markdown",
   "id": "766a4a0e",
   "metadata": {},
   "source": [
    "### 3. Extract the 'Age' and 'Occupation' columns into a new DataFrame.\n"
   ]
  },
  {
   "cell_type": "code",
   "execution_count": 132,
   "id": "5c1b31b4",
   "metadata": {},
   "outputs": [
    {
     "name": "stdout",
     "output_type": "stream",
     "text": [
      "   Age Occupation\n",
      "0   25   Engineer\n",
      "1   30  Scientist\n",
      "2   35     Artist\n",
      "3   40    Teacher\n"
     ]
    }
   ],
   "source": [
    "new_data=data[['Age','Occupation']]\n",
    "print(new_data)"
   ]
  },
  {
   "cell_type": "markdown",
   "id": "38c1a0e7",
   "metadata": {},
   "source": [
    "### 4. Try to extract a column that doesn't exist in the DataFrame and observe the error message.\n"
   ]
  },
  {
   "cell_type": "code",
   "execution_count": 133,
   "id": "375c7805",
   "metadata": {},
   "outputs": [
    {
     "name": "stdout",
     "output_type": "stream",
     "text": [
      "The 'City' column doesn't exist.\n"
     ]
    }
   ],
   "source": [
    "#This code when run it shows this error ( KeyError: \"None of [Index(['City'], dtype='object')] are in the [columns]\")\n",
    "#new_data=data[['City']]\n",
    "#print(new_data)\n",
    "\n",
    "# So,I used this code, if the column exist in the dataframe it will be printed ,else it will show the message ( The column does't exist)\n",
    "if 'City' in data.columns:\n",
    "    data['City']\n",
    "else:\n",
    "    print(\"The 'City' column doesn't exist.\")"
   ]
  },
  {
   "cell_type": "markdown",
   "id": "148849b3",
   "metadata": {},
   "source": [
    "### 5. Assign the value 50 to the entire 'Age' column.\n"
   ]
  },
  {
   "cell_type": "code",
   "execution_count": 134,
   "id": "508a0acd",
   "metadata": {},
   "outputs": [
    {
     "name": "stdout",
     "output_type": "stream",
     "text": [
      "The real data frame:\n",
      "    Unnamed: 0      Name  Age  Gender Occupation\n",
      "0           0     Alice   25  Female   Engineer\n",
      "1           1       Bob   30    Male  Scientist\n",
      "2           2   Charlie   35    Male     Artist\n",
      "3           3  Danielle   40  Female    Teacher\n",
      "\n",
      "The changed data frame:\n",
      "    Unnamed: 0      Name  Age  Gender Occupation\n",
      "0           0     Alice   50  Female   Engineer\n",
      "1           1       Bob   50    Male  Scientist\n",
      "2           2   Charlie   50    Male     Artist\n",
      "3           3  Danielle   50  Female    Teacher\n"
     ]
    }
   ],
   "source": [
    "# Read the CSV file into a DataFrame\n",
    "read_data = pd.read_csv(\"data.csv\")\n",
    "\n",
    "# Print the DataFrame\n",
    "print(\"The real data frame:\\n\",read_data)\n",
    "\n",
    "# Assign the value 50 to the entire 'Age' column\n",
    "read_data[\"Age\"] = 50\n",
    "\n",
    "# Print the DataFrame\n",
    "print(\"\\nThe changed data frame:\\n\",read_data)"
   ]
  },
  {
   "cell_type": "markdown",
   "id": "2ca6e3c1",
   "metadata": {},
   "source": [
    "### 6. Try to assign random values for the Salary.\n"
   ]
  },
  {
   "cell_type": "code",
   "execution_count": 152,
   "id": "ab469339",
   "metadata": {},
   "outputs": [
    {
     "name": "stdout",
     "output_type": "stream",
     "text": [
      "The original data frame:\n",
      "    Unnamed: 0      Name  Age  Gender Occupation\n",
      "0           0     Alice   25  Female   Engineer\n",
      "1           1       Bob   30    Male  Scientist\n",
      "2           2   Charlie   35    Male     Artist\n",
      "3           3  Danielle   40  Female    Teacher\n",
      "\n",
      "The new data frame:\n",
      "    Unnamed: 0      Name  Age  Gender Occupation  salary\n",
      "0           0     Alice   25  Female   Engineer    7547\n",
      "1           1       Bob   30    Male  Scientist    5050\n",
      "2           2   Charlie   35    Male     Artist    3039\n",
      "3           3  Danielle   40  Female    Teacher    4346\n"
     ]
    }
   ],
   "source": [
    "# Read the CSV file into a DataFrame\n",
    "data = pd.read_csv(\"data.csv\")\n",
    "\n",
    "# Print the DataFrame\n",
    "print(\"The original data frame:\\n\",data)\n",
    "\n",
    "# Add a new column called 'Kids'\n",
    "data[\"salary\"] = np.random.randint(3000,8000,size=len(data))\n",
    "\n",
    "# Print the DataFrame\n",
    "print(\"\\nThe new data frame:\\n\",data)"
   ]
  },
  {
   "cell_type": "markdown",
   "id": "56ef821b",
   "metadata": {},
   "source": [
    "### 7. Add a new column called 'Kids' to the DataFrame with the following values: [2, 4, 0, 5]\n"
   ]
  },
  {
   "cell_type": "code",
   "execution_count": 153,
   "id": "709ecc1f",
   "metadata": {},
   "outputs": [
    {
     "name": "stdout",
     "output_type": "stream",
     "text": [
      "The original data frame:\n",
      "    Unnamed: 0      Name  Age  Gender Occupation\n",
      "0           0     Alice   25  Female   Engineer\n",
      "1           1       Bob   30    Male  Scientist\n",
      "2           2   Charlie   35    Male     Artist\n",
      "3           3  Danielle   40  Female    Teacher\n",
      "\n",
      "The new data frame:\n",
      "    Unnamed: 0      Name  Age  Gender Occupation  Kids\n",
      "0           0     Alice   25  Female   Engineer     2\n",
      "1           1       Bob   30    Male  Scientist     4\n",
      "2           2   Charlie   35    Male     Artist     0\n",
      "3           3  Danielle   40  Female    Teacher     5\n"
     ]
    }
   ],
   "source": [
    "# Read the CSV file into a DataFrame\n",
    "data = pd.read_csv(\"data.csv\")\n",
    "\n",
    "# Print the DataFrame\n",
    "print(\"The original data frame:\\n\",data)\n",
    "\n",
    "# Add a new column called 'Kids'\n",
    "data[\"Kids\"] = [2, 4, 0, 5]\n",
    "\n",
    "# Print the DataFrame\n",
    "print(\"\\nThe new data frame:\\n\",data)\n"
   ]
  },
  {
   "cell_type": "markdown",
   "id": "4b3b5841",
   "metadata": {},
   "source": [
    "### 8. Delete the 'Gender' column from the DataFrame.\n"
   ]
  },
  {
   "cell_type": "code",
   "execution_count": 154,
   "id": "ce7315b5",
   "metadata": {},
   "outputs": [
    {
     "name": "stdout",
     "output_type": "stream",
     "text": [
      "The real data frame:\n",
      "    Unnamed: 0      Name  Age  Gender Occupation\n",
      "0           0     Alice   25  Female   Engineer\n",
      "1           1       Bob   30    Male  Scientist\n",
      "2           2   Charlie   35    Male     Artist\n",
      "3           3  Danielle   40  Female    Teacher\n",
      "\n",
      "The changed data frame:\n",
      "    Unnamed: 0      Name  Age Occupation\n",
      "0           0     Alice   25   Engineer\n",
      "1           1       Bob   30  Scientist\n",
      "2           2   Charlie   35     Artist\n",
      "3           3  Danielle   40    Teacher\n"
     ]
    }
   ],
   "source": [
    "# Read the CSV file into a DataFrame\n",
    "data = pd.read_csv(\"data.csv\")\n",
    "\n",
    "# Print the DataFrame\n",
    "print(\"The real data frame:\\n\",data)\n",
    "\n",
    "# Drop the 'Gender' column\n",
    "data=data.drop('Gender',axis=1)\n",
    "\n",
    "# Print the DataFrame\n",
    "print(\"\\nThe changed data frame:\\n\",data)\n"
   ]
  },
  {
   "cell_type": "markdown",
   "id": "a5b41fda",
   "metadata": {},
   "source": [
    "### 9. Save the modified DataFrame to a new CSV file."
   ]
  },
  {
   "cell_type": "code",
   "execution_count": 155,
   "id": "52dae28c",
   "metadata": {},
   "outputs": [
    {
     "name": "stdout",
     "output_type": "stream",
     "text": [
      "The original DataFarme:\n",
      "    Unnamed: 0      Name  Age  Gender Occupation\n",
      "0           0     Alice   25  Female   Engineer\n",
      "1           1       Bob   30    Male  Scientist\n",
      "2           2   Charlie   35    Male     Artist\n",
      "3           3  Danielle   40  Female    Teacher\n"
     ]
    }
   ],
   "source": [
    "# Read the CSV file into a DataFrame\n",
    "data = pd.read_csv(\"data.csv\")\n",
    "\n",
    "#print the DataFrame\n",
    "print(\"The original DataFarme:\\n\",data)\n",
    "\n",
    "# Save the DataFrame to a new CSV file\n",
    "read_data.to_csv(\"new_data.csv\")"
   ]
  },
  {
   "cell_type": "markdown",
   "id": "00280bfd",
   "metadata": {},
   "source": [
    "# (Reindexing)\n"
   ]
  },
  {
   "cell_type": "markdown",
   "id": "b32d6ab3",
   "metadata": {},
   "source": [
    "## Exercise for Series reindexing:\n"
   ]
  },
  {
   "cell_type": "markdown",
   "id": "80c100bc",
   "metadata": {},
   "source": [
    "### 1. Create a Series with the following data: data = [10, 20, 30, 40, 50]\n"
   ]
  },
  {
   "cell_type": "code",
   "execution_count": 314,
   "id": "00972ae3",
   "metadata": {},
   "outputs": [
    {
     "name": "stdout",
     "output_type": "stream",
     "text": [
      "The series is:\n",
      " 0    10\n",
      "1    20\n",
      "2    30\n",
      "3    40\n",
      "4    50\n",
      "dtype: int64\n"
     ]
    }
   ],
   "source": [
    "import numpy as np\n",
    "import pandas as pd\n",
    "from pandas import Series,DataFrame\n",
    "\n",
    "#Create Series with list of values\n",
    "data= Series([10,20,30,40,50])\n",
    "\n",
    "#print the Series\n",
    "print(\"The series is:\\n\",data)"
   ]
  },
  {
   "cell_type": "markdown",
   "id": "b9894d3a",
   "metadata": {},
   "source": [
    "### 2. Assign the following index labels to the Series: index = ['a', 'b', 'c', 'd', 'e']\n"
   ]
  },
  {
   "cell_type": "code",
   "execution_count": 315,
   "id": "8a64a4a6",
   "metadata": {},
   "outputs": [
    {
     "name": "stdout",
     "output_type": "stream",
     "text": [
      "a    10\n",
      "b    20\n",
      "c    30\n",
      "d    40\n",
      "e    50\n",
      "dtype: int64\n"
     ]
    }
   ],
   "source": [
    "data=Series([10,20,30,40,50],index=['a','b','c','d','e'])\n",
    "#print the Series\n",
    "print(data)"
   ]
  },
  {
   "cell_type": "markdown",
   "id": "fcdc9a6e",
   "metadata": {},
   "source": [
    "### 3. Get the index of the Series using the index attribute.\n"
   ]
  },
  {
   "cell_type": "code",
   "execution_count": 316,
   "id": "0761c45b",
   "metadata": {},
   "outputs": [
    {
     "name": "stdout",
     "output_type": "stream",
     "text": [
      "Index(['a', 'b', 'c', 'd', 'e'], dtype='object')\n"
     ]
    }
   ],
   "source": [
    "get_index=data.index\n",
    "# Print the index of the Series\n",
    "print(get_index)"
   ]
  },
  {
   "cell_type": "markdown",
   "id": "b8205f14",
   "metadata": {},
   "source": [
    "### 4. Create a new index for the Series using the following labels: new_index = ['a', 'b', 'c', 'd', 'e', 'f','g']\n"
   ]
  },
  {
   "cell_type": "code",
   "execution_count": 327,
   "id": "d145cbe9",
   "metadata": {},
   "outputs": [
    {
     "name": "stdout",
     "output_type": "stream",
     "text": [
      "['a', 'b', 'c', 'd', 'e', 'f', 'g']\n"
     ]
    }
   ],
   "source": [
    "#Create a new index for the Series\n",
    "index=['a','b','c','d','e']\n",
    "new_index=['a', 'b', 'c', 'd', 'e', 'f','g']\n",
    "\n",
    "#Print the new index \n",
    "print(new_index)"
   ]
  },
  {
   "cell_type": "markdown",
   "id": "f5abac28",
   "metadata": {},
   "source": [
    "### 5. Call the reindex method on the Series with the new index and observe the output.\n"
   ]
  },
  {
   "cell_type": "code",
   "execution_count": 328,
   "id": "c1253801",
   "metadata": {},
   "outputs": [
    {
     "name": "stdout",
     "output_type": "stream",
     "text": [
      "a    10.0\n",
      "b    20.0\n",
      "c    30.0\n",
      "d    40.0\n",
      "e    50.0\n",
      "f     NaN\n",
      "g     NaN\n",
      "dtype: float64\n"
     ]
    }
   ],
   "source": [
    "#Create a new index for the Series\n",
    "new_index=data.reindex(new_index)\n",
    "#Print the Series with new index \n",
    "print(new_index)"
   ]
  },
  {
   "cell_type": "markdown",
   "id": "5e52ac4c",
   "metadata": {},
   "source": [
    "### 6. Fill in values for the new indexes using a value of your choice.\n"
   ]
  },
  {
   "cell_type": "code",
   "execution_count": 323,
   "id": "0f407810",
   "metadata": {},
   "outputs": [
    {
     "data": {
      "text/plain": [
       "a    10.0\n",
       "b    20.0\n",
       "c    30.0\n",
       "d    40.0\n",
       "e    50.0\n",
       "f     4.0\n",
       "g     4.0\n",
       "dtype: float64"
      ]
     },
     "execution_count": 323,
     "metadata": {},
     "output_type": "execute_result"
    }
   ],
   "source": [
    "# The first way \n",
    "new_index.fillna(4)"
   ]
  },
  {
   "cell_type": "code",
   "execution_count": 324,
   "id": "f9451792",
   "metadata": {},
   "outputs": [
    {
     "data": {
      "text/plain": [
       "a    10.0\n",
       "b    20.0\n",
       "c    30.0\n",
       "d    40.0\n",
       "e    50.0\n",
       "f     4.0\n",
       "g     4.0\n",
       "dtype: float64"
      ]
     },
     "execution_count": 324,
     "metadata": {},
     "output_type": "execute_result"
    }
   ],
   "source": [
    "# The second way\n",
    "new_index['f']=4\n",
    "new_index['g']=4\n",
    "new_index"
   ]
  },
  {
   "cell_type": "markdown",
   "id": "59bd41ff",
   "metadata": {},
   "source": [
    "### 7. Use the ffill method to fill the new indexes with the previous values in the Series."
   ]
  },
  {
   "cell_type": "code",
   "execution_count": 330,
   "id": "631503b8",
   "metadata": {},
   "outputs": [
    {
     "data": {
      "text/plain": [
       "a    10.0\n",
       "b    20.0\n",
       "c    30.0\n",
       "d    40.0\n",
       "e    50.0\n",
       "f    50.0\n",
       "g    50.0\n",
       "dtype: float64"
      ]
     },
     "execution_count": 330,
     "metadata": {},
     "output_type": "execute_result"
    }
   ],
   "source": [
    "new_index.ffill()"
   ]
  },
  {
   "cell_type": "markdown",
   "id": "52e9ce45",
   "metadata": {},
   "source": [
    "## Exercise for DataFrame reindexing:\n"
   ]
  },
  {
   "cell_type": "markdown",
   "id": "55bad9c6",
   "metadata": {},
   "source": [
    "### 1. Create a DataFrame with the following random values:\n",
    "### import pandas as pd\n",
    "### import numpy as np\n",
    "### np.random.seed(123)\n",
    "### data = {'A': np.random.randint(1, 10, 5), 'B': np.random.randint(1, 10, 5)}\n",
    "### df = pd.DataFrame(data)\n"
   ]
  },
  {
   "cell_type": "code",
   "execution_count": 331,
   "id": "c33750d9",
   "metadata": {},
   "outputs": [
    {
     "data": {
      "text/html": [
       "<div>\n",
       "<style scoped>\n",
       "    .dataframe tbody tr th:only-of-type {\n",
       "        vertical-align: middle;\n",
       "    }\n",
       "\n",
       "    .dataframe tbody tr th {\n",
       "        vertical-align: top;\n",
       "    }\n",
       "\n",
       "    .dataframe thead th {\n",
       "        text-align: right;\n",
       "    }\n",
       "</style>\n",
       "<table border=\"1\" class=\"dataframe\">\n",
       "  <thead>\n",
       "    <tr style=\"text-align: right;\">\n",
       "      <th></th>\n",
       "      <th>A</th>\n",
       "      <th>B</th>\n",
       "    </tr>\n",
       "  </thead>\n",
       "  <tbody>\n",
       "    <tr>\n",
       "      <th>0</th>\n",
       "      <td>3</td>\n",
       "      <td>7</td>\n",
       "    </tr>\n",
       "    <tr>\n",
       "      <th>1</th>\n",
       "      <td>3</td>\n",
       "      <td>2</td>\n",
       "    </tr>\n",
       "    <tr>\n",
       "      <th>2</th>\n",
       "      <td>7</td>\n",
       "      <td>1</td>\n",
       "    </tr>\n",
       "    <tr>\n",
       "      <th>3</th>\n",
       "      <td>2</td>\n",
       "      <td>2</td>\n",
       "    </tr>\n",
       "    <tr>\n",
       "      <th>4</th>\n",
       "      <td>4</td>\n",
       "      <td>1</td>\n",
       "    </tr>\n",
       "  </tbody>\n",
       "</table>\n",
       "</div>"
      ],
      "text/plain": [
       "   A  B\n",
       "0  3  7\n",
       "1  3  2\n",
       "2  7  1\n",
       "3  2  2\n",
       "4  4  1"
      ]
     },
     "execution_count": 331,
     "metadata": {},
     "output_type": "execute_result"
    }
   ],
   "source": [
    "import pandas as pd\n",
    "import numpy as np\n",
    "np.random.seed(123)\n",
    "data = {'A': np.random.randint(1, 10, 5), 'B': np.random.randint(1, 10, 5)}\n",
    "df = pd.DataFrame(data)\n",
    "df\n"
   ]
  },
  {
   "cell_type": "markdown",
   "id": "084219de",
   "metadata": {},
   "source": [
    "### 2. Get the current index and columns of the DataFrame using the index and columns attributes.\n"
   ]
  },
  {
   "cell_type": "code",
   "execution_count": 332,
   "id": "bd350fec",
   "metadata": {},
   "outputs": [
    {
     "name": "stdout",
     "output_type": "stream",
     "text": [
      "The index of the dataframe is:\n",
      " RangeIndex(start=0, stop=5, step=1)\n",
      "\n",
      "The column of the dataframe is:\n",
      " Index(['A', 'B'], dtype='object')\n"
     ]
    }
   ],
   "source": [
    "d=df.index\n",
    "print(\"The index of the dataframe is:\\n\",d)\n",
    "c=df.columns\n",
    "print(\"\\nThe column of the dataframe is:\\n\",c)\n"
   ]
  },
  {
   "cell_type": "markdown",
   "id": "b29c18c9",
   "metadata": {},
   "source": [
    "### 3. Create a new index for the DataFrame using the following labels: new_index = ['a', 'b', 'c', 'd', 'e']\n"
   ]
  },
  {
   "cell_type": "code",
   "execution_count": 333,
   "id": "da3e221d",
   "metadata": {},
   "outputs": [],
   "source": [
    "new_index = ['a', 'b', 'c', 'd', 'e']\n"
   ]
  },
  {
   "cell_type": "markdown",
   "id": "e72af7df",
   "metadata": {},
   "source": [
    "### 4. Call the reindex method on the DataFrame with the new index and observe the output.\n"
   ]
  },
  {
   "cell_type": "code",
   "execution_count": 334,
   "id": "17618c11",
   "metadata": {},
   "outputs": [
    {
     "name": "stdout",
     "output_type": "stream",
     "text": [
      "    A   B\n",
      "a NaN NaN\n",
      "b NaN NaN\n",
      "c NaN NaN\n",
      "d NaN NaN\n",
      "e NaN NaN\n"
     ]
    }
   ],
   "source": [
    "new_index= ['a', 'b', 'c', 'd', 'e']\n",
    "a=df.reindex(new_index)\n",
    "print(a)"
   ]
  },
  {
   "cell_type": "markdown",
   "id": "e4b4c76b",
   "metadata": {},
   "source": [
    "### 5. Fill in values for the new indexes using a value of your choice.\n"
   ]
  },
  {
   "cell_type": "code",
   "execution_count": 337,
   "id": "58efc302",
   "metadata": {},
   "outputs": [
    {
     "data": {
      "text/html": [
       "<div>\n",
       "<style scoped>\n",
       "    .dataframe tbody tr th:only-of-type {\n",
       "        vertical-align: middle;\n",
       "    }\n",
       "\n",
       "    .dataframe tbody tr th {\n",
       "        vertical-align: top;\n",
       "    }\n",
       "\n",
       "    .dataframe thead th {\n",
       "        text-align: right;\n",
       "    }\n",
       "</style>\n",
       "<table border=\"1\" class=\"dataframe\">\n",
       "  <thead>\n",
       "    <tr style=\"text-align: right;\">\n",
       "      <th></th>\n",
       "      <th>A</th>\n",
       "      <th>B</th>\n",
       "    </tr>\n",
       "  </thead>\n",
       "  <tbody>\n",
       "    <tr>\n",
       "      <th>a</th>\n",
       "      <td>4.0</td>\n",
       "      <td>4.0</td>\n",
       "    </tr>\n",
       "    <tr>\n",
       "      <th>b</th>\n",
       "      <td>4.0</td>\n",
       "      <td>4.0</td>\n",
       "    </tr>\n",
       "    <tr>\n",
       "      <th>c</th>\n",
       "      <td>4.0</td>\n",
       "      <td>4.0</td>\n",
       "    </tr>\n",
       "    <tr>\n",
       "      <th>d</th>\n",
       "      <td>4.0</td>\n",
       "      <td>4.0</td>\n",
       "    </tr>\n",
       "    <tr>\n",
       "      <th>e</th>\n",
       "      <td>4.0</td>\n",
       "      <td>4.0</td>\n",
       "    </tr>\n",
       "  </tbody>\n",
       "</table>\n",
       "</div>"
      ],
      "text/plain": [
       "     A    B\n",
       "a  4.0  4.0\n",
       "b  4.0  4.0\n",
       "c  4.0  4.0\n",
       "d  4.0  4.0\n",
       "e  4.0  4.0"
      ]
     },
     "execution_count": 337,
     "metadata": {},
     "output_type": "execute_result"
    }
   ],
   "source": [
    "# The first way \n",
    "a.fillna(4)\n"
   ]
  },
  {
   "cell_type": "markdown",
   "id": "1754da71",
   "metadata": {},
   "source": [
    "### 6. Use the ffill method to fill the new indexes with the previous values in the DataFrame's columns."
   ]
  },
  {
   "cell_type": "code",
   "execution_count": 338,
   "id": "62a813b0",
   "metadata": {},
   "outputs": [
    {
     "data": {
      "text/html": [
       "<div>\n",
       "<style scoped>\n",
       "    .dataframe tbody tr th:only-of-type {\n",
       "        vertical-align: middle;\n",
       "    }\n",
       "\n",
       "    .dataframe tbody tr th {\n",
       "        vertical-align: top;\n",
       "    }\n",
       "\n",
       "    .dataframe thead th {\n",
       "        text-align: right;\n",
       "    }\n",
       "</style>\n",
       "<table border=\"1\" class=\"dataframe\">\n",
       "  <thead>\n",
       "    <tr style=\"text-align: right;\">\n",
       "      <th></th>\n",
       "      <th>A</th>\n",
       "      <th>B</th>\n",
       "    </tr>\n",
       "  </thead>\n",
       "  <tbody>\n",
       "    <tr>\n",
       "      <th>a</th>\n",
       "      <td>NaN</td>\n",
       "      <td>NaN</td>\n",
       "    </tr>\n",
       "    <tr>\n",
       "      <th>b</th>\n",
       "      <td>NaN</td>\n",
       "      <td>NaN</td>\n",
       "    </tr>\n",
       "    <tr>\n",
       "      <th>c</th>\n",
       "      <td>NaN</td>\n",
       "      <td>NaN</td>\n",
       "    </tr>\n",
       "    <tr>\n",
       "      <th>d</th>\n",
       "      <td>NaN</td>\n",
       "      <td>NaN</td>\n",
       "    </tr>\n",
       "    <tr>\n",
       "      <th>e</th>\n",
       "      <td>NaN</td>\n",
       "      <td>NaN</td>\n",
       "    </tr>\n",
       "  </tbody>\n",
       "</table>\n",
       "</div>"
      ],
      "text/plain": [
       "    A   B\n",
       "a NaN NaN\n",
       "b NaN NaN\n",
       "c NaN NaN\n",
       "d NaN NaN\n",
       "e NaN NaN"
      ]
     },
     "execution_count": 338,
     "metadata": {},
     "output_type": "execute_result"
    }
   ],
   "source": [
    "a.ffill()"
   ]
  },
  {
   "cell_type": "markdown",
   "id": "d771c770",
   "metadata": {},
   "source": [
    "# (Selecting Entries)\n"
   ]
  },
  {
   "cell_type": "markdown",
   "id": "9de2ba63",
   "metadata": {},
   "source": [
    "### Exercise for Series:\n",
    "\n"
   ]
  },
  {
   "cell_type": "markdown",
   "id": "13f448c0",
   "metadata": {},
   "source": [
    "### 1. Create a Series with the following data: data = [5, 10, 15, 20, 25, 30], index = ['a', 'b', 'c', 'd', 'e','f']\n"
   ]
  },
  {
   "cell_type": "code",
   "execution_count": 212,
   "id": "d12c0014",
   "metadata": {},
   "outputs": [
    {
     "data": {
      "text/plain": [
       "a     5\n",
       "b    10\n",
       "c    15\n",
       "d    20\n",
       "e    25\n",
       "f    30\n",
       "dtype: int64"
      ]
     },
     "execution_count": 212,
     "metadata": {},
     "output_type": "execute_result"
    }
   ],
   "source": [
    "import numpy as np\n",
    "import pandas as pd\n",
    "from pandas import Series,DataFrame\n",
    "\n",
    "data=Series(data=[5, 10, 15, 20, 25, 30], index = ['a', 'b', 'c', 'd', 'e','f'])\n",
    "data"
   ]
  },
  {
   "cell_type": "markdown",
   "id": "57d1e9c5",
   "metadata": {},
   "source": [
    "### 2. Grab the entry with index name 'c' from the Series.\n"
   ]
  },
  {
   "cell_type": "code",
   "execution_count": 214,
   "id": "89fd08b9",
   "metadata": {},
   "outputs": [
    {
     "data": {
      "text/plain": [
       "15"
      ]
     },
     "execution_count": 214,
     "metadata": {},
     "output_type": "execute_result"
    }
   ],
   "source": [
    "data['c']"
   ]
  },
  {
   "cell_type": "markdown",
   "id": "68b1f54b",
   "metadata": {},
   "source": [
    "### 3. Grab entries in the Series with index values ['a', 'c', 'f'].\n"
   ]
  },
  {
   "cell_type": "code",
   "execution_count": 217,
   "id": "6c5442b6",
   "metadata": {},
   "outputs": [
    {
     "data": {
      "text/plain": [
       "a     5\n",
       "c    15\n",
       "f    30\n",
       "dtype: int64"
      ]
     },
     "execution_count": 217,
     "metadata": {},
     "output_type": "execute_result"
    }
   ],
   "source": [
    "data[['a','c','f']]"
   ]
  },
  {
   "cell_type": "markdown",
   "id": "f8e7f45a",
   "metadata": {},
   "source": [
    "### 4. Grab entries in the Series based on index logic: entries greater than 15.\n"
   ]
  },
  {
   "cell_type": "code",
   "execution_count": 218,
   "id": "a4c9bfbd",
   "metadata": {},
   "outputs": [
    {
     "data": {
      "text/plain": [
       "d    20\n",
       "e    25\n",
       "f    30\n",
       "dtype: int64"
      ]
     },
     "execution_count": 218,
     "metadata": {},
     "output_type": "execute_result"
    }
   ],
   "source": [
    "data[data>15]"
   ]
  },
  {
   "cell_type": "markdown",
   "id": "04e7af8e",
   "metadata": {},
   "source": [
    "### 5. replace the value 10 by 100"
   ]
  },
  {
   "cell_type": "code",
   "execution_count": 226,
   "id": "e4e31c4d",
   "metadata": {},
   "outputs": [
    {
     "name": "stdout",
     "output_type": "stream",
     "text": [
      "The original Series:\n",
      " a     5\n",
      "b    10\n",
      "c    15\n",
      "d    20\n",
      "e    25\n",
      "f    30\n",
      "dtype: int64\n",
      "\n",
      "The new Series:\n",
      " a      5\n",
      "b    100\n",
      "c     15\n",
      "d     20\n",
      "e     25\n",
      "f     30\n",
      "dtype: int64\n"
     ]
    }
   ],
   "source": [
    "print(\"The original Series:\\n\",data)\n",
    "new_series=data.replace(10,100)\n",
    "print(\"\\nThe new Series:\\n\",new_series)"
   ]
  },
  {
   "cell_type": "markdown",
   "id": "55af393c",
   "metadata": {},
   "source": [
    "## Exercise for DataFrames:\n"
   ]
  },
  {
   "cell_type": "markdown",
   "id": "59be4e37",
   "metadata": {},
   "source": [
    "### 1. Create a DataFrame with the following data: data = {'A': [1, 2, 3, 4, 5], 'B': [10, 20, 30, 40, 50], 'C':[100, 200, 300, 400, 500]}, index = ['a', 'b', 'c', 'd', 'e']\n"
   ]
  },
  {
   "cell_type": "code",
   "execution_count": 228,
   "id": "a6c3ef8c",
   "metadata": {},
   "outputs": [
    {
     "data": {
      "text/html": [
       "<div>\n",
       "<style scoped>\n",
       "    .dataframe tbody tr th:only-of-type {\n",
       "        vertical-align: middle;\n",
       "    }\n",
       "\n",
       "    .dataframe tbody tr th {\n",
       "        vertical-align: top;\n",
       "    }\n",
       "\n",
       "    .dataframe thead th {\n",
       "        text-align: right;\n",
       "    }\n",
       "</style>\n",
       "<table border=\"1\" class=\"dataframe\">\n",
       "  <thead>\n",
       "    <tr style=\"text-align: right;\">\n",
       "      <th></th>\n",
       "      <th>A</th>\n",
       "      <th>B</th>\n",
       "      <th>C</th>\n",
       "    </tr>\n",
       "  </thead>\n",
       "  <tbody>\n",
       "    <tr>\n",
       "      <th>a</th>\n",
       "      <td>1</td>\n",
       "      <td>10</td>\n",
       "      <td>100</td>\n",
       "    </tr>\n",
       "    <tr>\n",
       "      <th>b</th>\n",
       "      <td>2</td>\n",
       "      <td>20</td>\n",
       "      <td>200</td>\n",
       "    </tr>\n",
       "    <tr>\n",
       "      <th>c</th>\n",
       "      <td>3</td>\n",
       "      <td>30</td>\n",
       "      <td>300</td>\n",
       "    </tr>\n",
       "    <tr>\n",
       "      <th>d</th>\n",
       "      <td>4</td>\n",
       "      <td>40</td>\n",
       "      <td>400</td>\n",
       "    </tr>\n",
       "    <tr>\n",
       "      <th>e</th>\n",
       "      <td>5</td>\n",
       "      <td>50</td>\n",
       "      <td>500</td>\n",
       "    </tr>\n",
       "  </tbody>\n",
       "</table>\n",
       "</div>"
      ],
      "text/plain": [
       "   A   B    C\n",
       "a  1  10  100\n",
       "b  2  20  200\n",
       "c  3  30  300\n",
       "d  4  40  400\n",
       "e  5  50  500"
      ]
     },
     "execution_count": 228,
     "metadata": {},
     "output_type": "execute_result"
    }
   ],
   "source": [
    "data=pd.DataFrame({'A': [1, 2, 3, 4, 5], 'B': [10, 20, 30, 40, 50], 'C':[100, 200, 300, 400, 500]}, index = ['a', 'b', 'c', 'd', 'e'])\n",
    "data"
   ]
  },
  {
   "cell_type": "markdown",
   "id": "bb43c828",
   "metadata": {},
   "source": [
    "### 2. Grab the row with index label 'c' from the DataFrame.\n"
   ]
  },
  {
   "cell_type": "code",
   "execution_count": 235,
   "id": "5bf03445",
   "metadata": {},
   "outputs": [
    {
     "data": {
      "text/html": [
       "<div>\n",
       "<style scoped>\n",
       "    .dataframe tbody tr th:only-of-type {\n",
       "        vertical-align: middle;\n",
       "    }\n",
       "\n",
       "    .dataframe tbody tr th {\n",
       "        vertical-align: top;\n",
       "    }\n",
       "\n",
       "    .dataframe thead th {\n",
       "        text-align: right;\n",
       "    }\n",
       "</style>\n",
       "<table border=\"1\" class=\"dataframe\">\n",
       "  <thead>\n",
       "    <tr style=\"text-align: right;\">\n",
       "      <th></th>\n",
       "      <th>A</th>\n",
       "      <th>B</th>\n",
       "      <th>C</th>\n",
       "    </tr>\n",
       "  </thead>\n",
       "  <tbody>\n",
       "    <tr>\n",
       "      <th>c</th>\n",
       "      <td>3</td>\n",
       "      <td>30</td>\n",
       "      <td>300</td>\n",
       "    </tr>\n",
       "  </tbody>\n",
       "</table>\n",
       "</div>"
      ],
      "text/plain": [
       "   A   B    C\n",
       "c  3  30  300"
      ]
     },
     "execution_count": 235,
     "metadata": {},
     "output_type": "execute_result"
    }
   ],
   "source": [
    "g=data.loc[['c']]\n",
    "g"
   ]
  },
  {
   "cell_type": "markdown",
   "id": "12b896e2",
   "metadata": {},
   "source": [
    "### 3. Grab rows in the DataFrame with index range 'b' to 'e'.\n"
   ]
  },
  {
   "cell_type": "code",
   "execution_count": 236,
   "id": "e33e438a",
   "metadata": {},
   "outputs": [
    {
     "data": {
      "text/html": [
       "<div>\n",
       "<style scoped>\n",
       "    .dataframe tbody tr th:only-of-type {\n",
       "        vertical-align: middle;\n",
       "    }\n",
       "\n",
       "    .dataframe tbody tr th {\n",
       "        vertical-align: top;\n",
       "    }\n",
       "\n",
       "    .dataframe thead th {\n",
       "        text-align: right;\n",
       "    }\n",
       "</style>\n",
       "<table border=\"1\" class=\"dataframe\">\n",
       "  <thead>\n",
       "    <tr style=\"text-align: right;\">\n",
       "      <th></th>\n",
       "      <th>A</th>\n",
       "      <th>B</th>\n",
       "      <th>C</th>\n",
       "    </tr>\n",
       "  </thead>\n",
       "  <tbody>\n",
       "    <tr>\n",
       "      <th>b</th>\n",
       "      <td>2</td>\n",
       "      <td>20</td>\n",
       "      <td>200</td>\n",
       "    </tr>\n",
       "    <tr>\n",
       "      <th>e</th>\n",
       "      <td>5</td>\n",
       "      <td>50</td>\n",
       "      <td>500</td>\n",
       "    </tr>\n",
       "  </tbody>\n",
       "</table>\n",
       "</div>"
      ],
      "text/plain": [
       "   A   B    C\n",
       "b  2  20  200\n",
       "e  5  50  500"
      ]
     },
     "execution_count": 236,
     "metadata": {},
     "output_type": "execute_result"
    }
   ],
   "source": [
    "g=data.loc[['b','e']]\n",
    "g"
   ]
  },
  {
   "cell_type": "markdown",
   "id": "f4b272ab",
   "metadata": {},
   "source": [
    "### 4. Grab rows in the DataFrame with index values ['a', 'c', 'e'].\n"
   ]
  },
  {
   "cell_type": "code",
   "execution_count": 237,
   "id": "cfcab403",
   "metadata": {},
   "outputs": [
    {
     "data": {
      "text/html": [
       "<div>\n",
       "<style scoped>\n",
       "    .dataframe tbody tr th:only-of-type {\n",
       "        vertical-align: middle;\n",
       "    }\n",
       "\n",
       "    .dataframe tbody tr th {\n",
       "        vertical-align: top;\n",
       "    }\n",
       "\n",
       "    .dataframe thead th {\n",
       "        text-align: right;\n",
       "    }\n",
       "</style>\n",
       "<table border=\"1\" class=\"dataframe\">\n",
       "  <thead>\n",
       "    <tr style=\"text-align: right;\">\n",
       "      <th></th>\n",
       "      <th>A</th>\n",
       "      <th>B</th>\n",
       "      <th>C</th>\n",
       "    </tr>\n",
       "  </thead>\n",
       "  <tbody>\n",
       "    <tr>\n",
       "      <th>a</th>\n",
       "      <td>1</td>\n",
       "      <td>10</td>\n",
       "      <td>100</td>\n",
       "    </tr>\n",
       "    <tr>\n",
       "      <th>c</th>\n",
       "      <td>3</td>\n",
       "      <td>30</td>\n",
       "      <td>300</td>\n",
       "    </tr>\n",
       "    <tr>\n",
       "      <th>e</th>\n",
       "      <td>5</td>\n",
       "      <td>50</td>\n",
       "      <td>500</td>\n",
       "    </tr>\n",
       "  </tbody>\n",
       "</table>\n",
       "</div>"
      ],
      "text/plain": [
       "   A   B    C\n",
       "a  1  10  100\n",
       "c  3  30  300\n",
       "e  5  50  500"
      ]
     },
     "execution_count": 237,
     "metadata": {},
     "output_type": "execute_result"
    }
   ],
   "source": [
    "g=data.loc[['a','c','e']]\n",
    "g"
   ]
  },
  {
   "cell_type": "markdown",
   "id": "fe05fa66",
   "metadata": {},
   "source": [
    "### 5. Grab rows in the DataFrame based on index logic: rows where the value in column 'A' is greater than 2.\n"
   ]
  },
  {
   "cell_type": "code",
   "execution_count": 250,
   "id": "1a3ca611",
   "metadata": {},
   "outputs": [
    {
     "data": {
      "text/html": [
       "<div>\n",
       "<style scoped>\n",
       "    .dataframe tbody tr th:only-of-type {\n",
       "        vertical-align: middle;\n",
       "    }\n",
       "\n",
       "    .dataframe tbody tr th {\n",
       "        vertical-align: top;\n",
       "    }\n",
       "\n",
       "    .dataframe thead th {\n",
       "        text-align: right;\n",
       "    }\n",
       "</style>\n",
       "<table border=\"1\" class=\"dataframe\">\n",
       "  <thead>\n",
       "    <tr style=\"text-align: right;\">\n",
       "      <th></th>\n",
       "      <th>A</th>\n",
       "      <th>B</th>\n",
       "      <th>C</th>\n",
       "    </tr>\n",
       "  </thead>\n",
       "  <tbody>\n",
       "    <tr>\n",
       "      <th>c</th>\n",
       "      <td>3</td>\n",
       "      <td>30</td>\n",
       "      <td>300</td>\n",
       "    </tr>\n",
       "    <tr>\n",
       "      <th>d</th>\n",
       "      <td>4</td>\n",
       "      <td>40</td>\n",
       "      <td>400</td>\n",
       "    </tr>\n",
       "    <tr>\n",
       "      <th>e</th>\n",
       "      <td>5</td>\n",
       "      <td>50</td>\n",
       "      <td>500</td>\n",
       "    </tr>\n",
       "  </tbody>\n",
       "</table>\n",
       "</div>"
      ],
      "text/plain": [
       "   A   B    C\n",
       "c  3  30  300\n",
       "d  4  40  400\n",
       "e  5  50  500"
      ]
     },
     "execution_count": 250,
     "metadata": {},
     "output_type": "execute_result"
    }
   ],
   "source": [
    "g=data.loc[data['A']>2]\n",
    "g"
   ]
  },
  {
   "cell_type": "markdown",
   "id": "8b4ee8fa",
   "metadata": {},
   "source": [
    "### 6. Grab rows in the DataFrame based on index logic: rows where the value in column 'A' is greater than 2 and 'B' less than 50\n"
   ]
  },
  {
   "cell_type": "code",
   "execution_count": 251,
   "id": "82701373",
   "metadata": {},
   "outputs": [
    {
     "data": {
      "text/html": [
       "<div>\n",
       "<style scoped>\n",
       "    .dataframe tbody tr th:only-of-type {\n",
       "        vertical-align: middle;\n",
       "    }\n",
       "\n",
       "    .dataframe tbody tr th {\n",
       "        vertical-align: top;\n",
       "    }\n",
       "\n",
       "    .dataframe thead th {\n",
       "        text-align: right;\n",
       "    }\n",
       "</style>\n",
       "<table border=\"1\" class=\"dataframe\">\n",
       "  <thead>\n",
       "    <tr style=\"text-align: right;\">\n",
       "      <th></th>\n",
       "      <th>A</th>\n",
       "      <th>B</th>\n",
       "      <th>C</th>\n",
       "    </tr>\n",
       "  </thead>\n",
       "  <tbody>\n",
       "    <tr>\n",
       "      <th>c</th>\n",
       "      <td>3</td>\n",
       "      <td>30</td>\n",
       "      <td>300</td>\n",
       "    </tr>\n",
       "    <tr>\n",
       "      <th>d</th>\n",
       "      <td>4</td>\n",
       "      <td>40</td>\n",
       "      <td>400</td>\n",
       "    </tr>\n",
       "  </tbody>\n",
       "</table>\n",
       "</div>"
      ],
      "text/plain": [
       "   A   B    C\n",
       "c  3  30  300\n",
       "d  4  40  400"
      ]
     },
     "execution_count": 251,
     "metadata": {},
     "output_type": "execute_result"
    }
   ],
   "source": [
    "g=data.loc[(data['A']>2 )& (data['B']<50)]\n",
    "g"
   ]
  },
  {
   "cell_type": "markdown",
   "id": "76998a49",
   "metadata": {},
   "source": [
    "### 7. Drop column 'A' from the data frame\n"
   ]
  },
  {
   "cell_type": "code",
   "execution_count": 256,
   "id": "4d56ea32",
   "metadata": {},
   "outputs": [
    {
     "data": {
      "text/html": [
       "<div>\n",
       "<style scoped>\n",
       "    .dataframe tbody tr th:only-of-type {\n",
       "        vertical-align: middle;\n",
       "    }\n",
       "\n",
       "    .dataframe tbody tr th {\n",
       "        vertical-align: top;\n",
       "    }\n",
       "\n",
       "    .dataframe thead th {\n",
       "        text-align: right;\n",
       "    }\n",
       "</style>\n",
       "<table border=\"1\" class=\"dataframe\">\n",
       "  <thead>\n",
       "    <tr style=\"text-align: right;\">\n",
       "      <th></th>\n",
       "      <th>B</th>\n",
       "      <th>C</th>\n",
       "    </tr>\n",
       "  </thead>\n",
       "  <tbody>\n",
       "    <tr>\n",
       "      <th>a</th>\n",
       "      <td>10</td>\n",
       "      <td>100</td>\n",
       "    </tr>\n",
       "    <tr>\n",
       "      <th>b</th>\n",
       "      <td>20</td>\n",
       "      <td>200</td>\n",
       "    </tr>\n",
       "    <tr>\n",
       "      <th>c</th>\n",
       "      <td>30</td>\n",
       "      <td>300</td>\n",
       "    </tr>\n",
       "    <tr>\n",
       "      <th>d</th>\n",
       "      <td>40</td>\n",
       "      <td>400</td>\n",
       "    </tr>\n",
       "    <tr>\n",
       "      <th>e</th>\n",
       "      <td>50</td>\n",
       "      <td>500</td>\n",
       "    </tr>\n",
       "  </tbody>\n",
       "</table>\n",
       "</div>"
      ],
      "text/plain": [
       "    B    C\n",
       "a  10  100\n",
       "b  20  200\n",
       "c  30  300\n",
       "d  40  400\n",
       "e  50  500"
      ]
     },
     "execution_count": 256,
     "metadata": {},
     "output_type": "execute_result"
    }
   ],
   "source": [
    "data.drop('A',axis=1)"
   ]
  },
  {
   "cell_type": "markdown",
   "id": "899cd084",
   "metadata": {},
   "source": [
    "### 8. drop raw 'e' from the data frame"
   ]
  },
  {
   "cell_type": "code",
   "execution_count": 259,
   "id": "eef8357a",
   "metadata": {},
   "outputs": [
    {
     "name": "stdout",
     "output_type": "stream",
     "text": [
      "The original dataframe:\n",
      "    A   B    C\n",
      "a  1  10  100\n",
      "b  2  20  200\n",
      "c  3  30  300\n",
      "d  4  40  400\n",
      "e  5  50  500\n",
      "\n",
      "The new dataframe:\n",
      "    A   B    C\n",
      "a  1  10  100\n",
      "b  2  20  200\n",
      "c  3  30  300\n",
      "d  4  40  400\n"
     ]
    }
   ],
   "source": [
    "print('The original dataframe:\\n',data)\n",
    "e=data.drop('e')\n",
    "print('\\nThe new dataframe:\\n',e)"
   ]
  },
  {
   "cell_type": "code",
   "execution_count": null,
   "id": "c5f72c79",
   "metadata": {},
   "outputs": [],
   "source": []
  }
 ],
 "metadata": {
  "kernelspec": {
   "display_name": "Python 3 (ipykernel)",
   "language": "python",
   "name": "python3"
  },
  "language_info": {
   "codemirror_mode": {
    "name": "ipython",
    "version": 3
   },
   "file_extension": ".py",
   "mimetype": "text/x-python",
   "name": "python",
   "nbconvert_exporter": "python",
   "pygments_lexer": "ipython3",
   "version": "3.9.13"
  }
 },
 "nbformat": 4,
 "nbformat_minor": 5
}
