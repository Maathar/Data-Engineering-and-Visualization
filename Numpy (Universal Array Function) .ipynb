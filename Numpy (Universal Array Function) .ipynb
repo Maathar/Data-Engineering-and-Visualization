{
 "cells": [
  {
   "cell_type": "markdown",
   "id": "e966d6e3",
   "metadata": {},
   "source": [
    "### Data Engineering \n",
    "#### Numpy (Universal Array Function) "
   ]
  },
  {
   "cell_type": "markdown",
   "id": "2c6cfef1",
   "metadata": {},
   "source": [
    "#### 1. Create a NumPy array with shape (3,3) and fill it with random numbers. Use the np.exp() function to compute the exponential of each element in the array."
   ]
  },
  {
   "cell_type": "code",
   "execution_count": 1,
   "id": "87d54b25",
   "metadata": {},
   "outputs": [],
   "source": [
    "import numpy as np"
   ]
  },
  {
   "cell_type": "code",
   "execution_count": 27,
   "id": "f6c3739d",
   "metadata": {},
   "outputs": [
    {
     "name": "stdout",
     "output_type": "stream",
     "text": [
      "The original array:\n",
      " [[0.47241822 0.00330225 0.53439254]\n",
      " [0.09557252 0.96653155 0.21402091]\n",
      " [0.58287502 0.91757059 0.52901808]]\n",
      "\n",
      "The exponential of each element in array:\n",
      " [[1.60386801 1.00330771 1.70641135]\n",
      " [1.10028862 2.62881074 1.23864856]\n",
      " [1.79118072 2.50320168 1.69726491]]\n"
     ]
    }
   ],
   "source": [
    "array=np.random.rand(3,3)\n",
    "print('The original array:\\n',array)\n",
    "\n",
    "a=np.exp(array)\n",
    "print('\\nThe exponential of each element in array:\\n',a)\n"
   ]
  },
  {
   "cell_type": "markdown",
   "id": "91afa0b0",
   "metadata": {},
   "source": [
    "#### 2.Create a NumPy array with shape (4,4) and fill it with random numbers. Use the np.sin() function to compute the sine of each element in the array.\n"
   ]
  },
  {
   "cell_type": "code",
   "execution_count": 28,
   "id": "a315f3ed",
   "metadata": {},
   "outputs": [
    {
     "name": "stdout",
     "output_type": "stream",
     "text": [
      "The original array:\n",
      " [[0.21696662 0.62459469 0.45295462 0.28247207]\n",
      " [0.33354298 0.07993825 0.08585117 0.74836616]\n",
      " [0.31196009 0.89308964 0.03012952 0.75010166]\n",
      " [0.60784287 0.98946942 0.84956625 0.3526651 ]]\n",
      "\n",
      "The sine of each element in the array:\n",
      " [[0.21526835 0.58476853 0.43762411 0.2787306 ]\n",
      " [0.3273928  0.07985314 0.08574574 0.68044239]\n",
      " [0.30692471 0.77901269 0.03012497 0.68171314]\n",
      " [0.57109804 0.83573474 0.75099407 0.34540011]]\n"
     ]
    }
   ],
   "source": [
    "array=np.random.rand(4,4)\n",
    "print('The original array:\\n',array)\n",
    "\n",
    "sine_array=np.sin(array)\n",
    "print('\\nThe sine of each element in the array:\\n',sine_array)\n"
   ]
  },
  {
   "cell_type": "markdown",
   "id": "0f8e2fc9",
   "metadata": {},
   "source": [
    "#### 3. Create a NumPy array with shape (5,5) and fill it with random numbers. Use the np.log() function to compute the natural logarithm of each element in the array."
   ]
  },
  {
   "cell_type": "code",
   "execution_count": 67,
   "id": "fc82e6ce",
   "metadata": {},
   "outputs": [
    {
     "name": "stdout",
     "output_type": "stream",
     "text": [
      "The original array:\n",
      " [[0.60624174 0.08947611 0.87943839 0.2519195  0.60089327]\n",
      " [0.0414102  0.5337825  0.63430608 0.92711042 0.9108766 ]\n",
      " [0.12790356 0.92533879 0.30678021 0.40995006 0.55782432]\n",
      " [0.1275603  0.81117835 0.19399544 0.69194801 0.0439449 ]\n",
      " [0.0026755  0.61619634 0.48761229 0.88268193 0.13986289]]\n",
      "\n",
      " The natural logarithm:\n",
      " [[0.60624174 0.08947611 0.87943839 0.2519195  0.60089327]\n",
      " [0.0414102  0.5337825  0.63430608 0.92711042 0.9108766 ]\n",
      " [0.12790356 0.92533879 0.30678021 0.40995006 0.55782432]\n",
      " [0.1275603  0.81117835 0.19399544 0.69194801 0.0439449 ]\n",
      " [0.0026755  0.61619634 0.48761229 0.88268193 0.13986289]]\n"
     ]
    }
   ],
   "source": [
    "arr=np.random.rand(5,5)\n",
    "print('The original array:\\n',arr)\n",
    "\n",
    "arr_log=np.log(arr_exp)\n",
    "print('\\n The natural logarithm:\\n',arr)\n",
    "\n"
   ]
  },
  {
   "cell_type": "markdown",
   "id": "37c30bf0",
   "metadata": {},
   "source": [
    "#### 4. Create a NumPy array with shape (2,2) and fill it with random numbers. Use the np.sqrt() function to compute the square root of each element in the array."
   ]
  },
  {
   "cell_type": "code",
   "execution_count": 31,
   "id": "de33eb99",
   "metadata": {},
   "outputs": [
    {
     "name": "stdout",
     "output_type": "stream",
     "text": [
      "The original array:\n",
      " [[0.07962222 0.57874546]\n",
      " [0.20092755 0.67614948]]\n",
      "\n",
      "The square root of each element in the array:\n",
      " [[0.2821741  0.76075322]\n",
      " [0.44824943 0.82228309]]\n"
     ]
    }
   ],
   "source": [
    "arr=np.random.rand(2,2)\n",
    "print('The original array:\\n',arr)\n",
    "\n",
    "arr_sqrt=np.sqrt(arr)\n",
    "print('\\nThe square root of each element in the array:\\n',arr_sqrt)"
   ]
  },
  {
   "cell_type": "markdown",
   "id": "b2d41c0d",
   "metadata": {},
   "source": [
    "#### 5. Create a NumPy array with shape (6,6) and fill it with random numbers. Use the np.floor() function to round down each element in the array to the nearest integer."
   ]
  },
  {
   "cell_type": "code",
   "execution_count": 48,
   "id": "6fd61fd3",
   "metadata": {},
   "outputs": [
    {
     "name": "stdout",
     "output_type": "stream",
     "text": [
      "The original array:\n",
      " [[0.92277858 0.82354433 0.88273944 0.47282854 0.0464822  0.88313683]\n",
      " [0.87917438 0.27311654 0.91288069 0.08065842 0.5746857  0.80622921]\n",
      " [0.78203705 0.80336941 0.75346296 0.96349702 0.13526393 0.70331957]\n",
      " [0.78090878 0.89747519 0.02003188 0.93723284 0.23606811 0.58175284]\n",
      " [0.50574205 0.56714414 0.75081669 0.21158629 0.44631574 0.4953242 ]\n",
      " [0.64186767 0.20127969 0.47514561 0.71439469 0.86783083 0.50253531]]\n",
      "\n",
      "The rounded array:\n",
      " [[0. 0. 0. 0. 0. 0.]\n",
      " [0. 0. 0. 0. 0. 0.]\n",
      " [0. 0. 0. 0. 0. 0.]\n",
      " [0. 0. 0. 0. 0. 0.]\n",
      " [0. 0. 0. 0. 0. 0.]\n",
      " [0. 0. 0. 0. 0. 0.]]\n"
     ]
    }
   ],
   "source": [
    "arr=np.random.rand(6,6)\n",
    "print('The original array:\\n',arr)\n",
    "\n",
    "arr_floor=np.floor(arr)\n",
    "print('\\nThe rounded array:\\n',arr_floor)"
   ]
  },
  {
   "cell_type": "markdown",
   "id": "8b4c30bd",
   "metadata": {},
   "source": [
    "####  6. Create a NumPy array with shape (3,3) and fill it with random numbers. Use the np.abs() function to compute the absolute value of each element in the array.\n"
   ]
  },
  {
   "cell_type": "code",
   "execution_count": 65,
   "id": "c281fdcc",
   "metadata": {},
   "outputs": [
    {
     "name": "stdout",
     "output_type": "stream",
     "text": [
      "The original array:\n",
      " [[0.8527617  0.24250445 0.95636325]\n",
      " [0.73262142 0.88058611 0.11813096]\n",
      " [0.72458104 0.55058331 0.20719878]]\n",
      "\n",
      "The absolute for array:\n",
      " [[0.8527617  0.24250445 0.95636325]\n",
      " [0.73262142 0.88058611 0.11813096]\n",
      " [0.72458104 0.55058331 0.20719878]]\n"
     ]
    }
   ],
   "source": [
    "arr=np.random.rand(3,3)\n",
    "print('The original array:\\n',arr)\n",
    "\n",
    "arr_abs=np.abs(arr)\n",
    "print('\\nThe absolute for array:\\n',arr_abs)\n",
    "\n",
    "#a=np.array([-1,9,-3,-19])\n",
    "#print('The original array:\\n',a)\n",
    "#arr_abs=np.abs(a)\n",
    "#print('\\nThe absolute for array:\\n',arr_abs)"
   ]
  },
  {
   "cell_type": "markdown",
   "id": "a72d494d",
   "metadata": {},
   "source": [
    "#### 7. Create a NumPy array with shape (4,4) and fill it with random numbers. Use the np.power()function to raise each element in the array to the power of 2.\n"
   ]
  },
  {
   "cell_type": "code",
   "execution_count": 72,
   "id": "b928b3a3",
   "metadata": {},
   "outputs": [
    {
     "name": "stdout",
     "output_type": "stream",
     "text": [
      "The original array:\n",
      " [[0.14671557 0.46274882 0.05692563 0.16286205]\n",
      " [0.14095927 0.14554119 0.19692026 0.84483712]\n",
      " [0.38277097 0.92088015 0.30934995 0.27570566]\n",
      " [0.38663943 0.19992677 0.7650183  0.00688753]]\n",
      "\n",
      "The power for array:\n",
      " [[2.15254576e-02 2.14136466e-01 3.24052712e-03 2.65240479e-02]\n",
      " [1.98695153e-02 2.11822375e-02 3.87775903e-02 7.13749764e-01]\n",
      " [1.46513618e-01 8.48020246e-01 9.56973905e-02 7.60136083e-02]\n",
      " [1.49490048e-01 3.99707134e-02 5.85253005e-01 4.74380109e-05]]\n"
     ]
    }
   ],
   "source": [
    "arr=np.random.rand(4,4)\n",
    "print('The original array:\\n',arr)\n",
    "\n",
    "arr_power=np.power(arr,2)\n",
    "print('\\nThe power for array:\\n',arr_power)"
   ]
  },
  {
   "cell_type": "markdown",
   "id": "84ed0344",
   "metadata": {},
   "source": [
    "#### 8. Create a NumPy array with 5 random integers between 1 and 10. Use the maximum function to find the largest element in the array."
   ]
  },
  {
   "cell_type": "code",
   "execution_count": 79,
   "id": "12e6145f",
   "metadata": {},
   "outputs": [
    {
     "name": "stdout",
     "output_type": "stream",
     "text": [
      "The original array:\n",
      " [10  4  4  6  6]\n",
      "\n",
      "The largest element in the array: 10\n"
     ]
    }
   ],
   "source": [
    "arr=np.random.randint(1,11,5)\n",
    "print('The original array:\\n',arr)\n",
    "\n",
    "arr_max=np.max(arr)\n",
    "print('\\nThe largest element in the array:',arr_max)"
   ]
  },
  {
   "cell_type": "markdown",
   "id": "dfe3bbd6",
   "metadata": {},
   "source": [
    "#### 9. Create a NumPy array with 10 random floating-point numbers between 0 and 1. Use the round function to round each element to the nearest integer.\n"
   ]
  },
  {
   "cell_type": "code",
   "execution_count": 84,
   "id": "74a843d0",
   "metadata": {},
   "outputs": [
    {
     "name": "stdout",
     "output_type": "stream",
     "text": [
      "The original array:\n",
      " [0.5258305  0.79883096 0.46353116 0.33162762 0.59278216 0.01279111\n",
      " 0.04009042 0.2319211  0.57510518 0.40300637]\n",
      "\n",
      " The round of each element in array: [1. 1. 0. 0. 1. 0. 0. 0. 1. 0.]\n"
     ]
    }
   ],
   "source": [
    "arr=np.random.rand(10)\n",
    "print('The original array:\\n',arr)\n",
    "\n",
    "arr_round=np.round(arr)\n",
    "print('\\n The round of each element in array:',arr_round)\n"
   ]
  },
  {
   "cell_type": "markdown",
   "id": "583eafc5",
   "metadata": {},
   "source": [
    "#### 10. Create a NumPy array with 7 random integers between 1 and 100. Use the argmax function to find the index of the largest element in the array.\n"
   ]
  },
  {
   "cell_type": "code",
   "execution_count": 87,
   "id": "4877eafa",
   "metadata": {},
   "outputs": [
    {
     "name": "stdout",
     "output_type": "stream",
     "text": [
      "The original array:\n",
      " [85  7 93 57 59 92 66]\n",
      "2\n"
     ]
    }
   ],
   "source": [
    "arr=np.random.randint(1,101,7)\n",
    "print('The original array:\\n',arr)\n",
    "\n",
    "arr_argmax=np.argmax(arr)\n",
    "print(arr_argmax)"
   ]
  },
  {
   "cell_type": "markdown",
   "id": "01d81d1a",
   "metadata": {},
   "source": [
    "#### 11. Create two NumPy arrays with the same shape, each filled with random integers between 1 and 10. Use the add function to add the two arrays together element-wise.\n"
   ]
  },
  {
   "cell_type": "code",
   "execution_count": 99,
   "id": "fce85684",
   "metadata": {},
   "outputs": [
    {
     "name": "stdout",
     "output_type": "stream",
     "text": [
      "The array 1:\n",
      " [[3 2]\n",
      " [2 9]]\n",
      "\n",
      "The array 2:\n",
      " [[7 2]\n",
      " [5 8]]\n",
      "\n",
      " The added arrays\n",
      " [[10  4]\n",
      " [ 7 17]]\n"
     ]
    }
   ],
   "source": [
    "arr1=np.random.randint(1,11,size=(2,2))\n",
    "print('The array 1:\\n',arr1)\n",
    "\n",
    "arr2=np.random.randint(1,11,size=(2,2))\n",
    "print('\\nThe array 2:\\n',arr2)\n",
    "\n",
    "a=np.add(arr1,arr2)\n",
    "print('\\n The added arrays\\n',a)\n"
   ]
  },
  {
   "cell_type": "markdown",
   "id": "81bbe5fa",
   "metadata": {},
   "source": [
    "#### 12. Create a NumPy array with 12 random integers between 0 and 100. Use the clip function to limit the values in the array to a range between 10 and 90."
   ]
  },
  {
   "cell_type": "code",
   "execution_count": 106,
   "id": "10a61609",
   "metadata": {},
   "outputs": [
    {
     "name": "stdout",
     "output_type": "stream",
     "text": [
      "The original array:\n",
      " [77 42 68 62  0 63 86 10 79  3 23 43]\n",
      "\n",
      "The cliped array:\n",
      " [77 42 68 62 10 63 86 10 79 10 23 43]\n"
     ]
    }
   ],
   "source": [
    "arr=np.random.randint(0,101,12)\n",
    "print('The original array:\\n',arr)\n",
    "\n",
    "arr_clip=np.clip(arr,10,90)\n",
    "print('\\nThe cliped array:\\n',arr_clip)"
   ]
  },
  {
   "cell_type": "code",
   "execution_count": null,
   "id": "c29d1647",
   "metadata": {},
   "outputs": [],
   "source": []
  }
 ],
 "metadata": {
  "kernelspec": {
   "display_name": "Python 3 (ipykernel)",
   "language": "python",
   "name": "python3"
  },
  "language_info": {
   "codemirror_mode": {
    "name": "ipython",
    "version": 3
   },
   "file_extension": ".py",
   "mimetype": "text/x-python",
   "name": "python",
   "nbconvert_exporter": "python",
   "pygments_lexer": "ipython3",
   "version": "3.9.13"
  }
 },
 "nbformat": 4,
 "nbformat_minor": 5
}
